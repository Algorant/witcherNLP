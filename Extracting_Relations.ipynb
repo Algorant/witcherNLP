{
 "cells": [
  {
   "cell_type": "code",
   "execution_count": 1,
   "id": "cceb02fa-6e1e-4718-a15d-74cf98209431",
   "metadata": {},
   "outputs": [],
   "source": [
    "import pandas as pd\n",
    "import numpy as np\n",
    "import spacy\n",
    "from pathlib import Path\n",
    "import os\n",
    "from spacy import displacy\n",
    "import networkx as nx\n",
    "import matplotlib.pyplot as plt\n",
    "import community as community_louvain\n",
    "import re"
   ]
  },
  {
   "cell_type": "code",
   "execution_count": null,
   "id": "4f71132c-d58d-4800-aa02-620f9f9b6689",
   "metadata": {},
   "outputs": [],
   "source": [
    "# Load simple language model, need to download this spacy en dictionary ahead of time\n",
    "NER = spacy.load(\"en_core_web_sm\")"
   ]
  },
  {
   "cell_type": "markdown",
   "id": "9e6df059-107b-4d56-a9aa-1f9e2263a0a1",
   "metadata": {},
   "source": [
    "### Get the Books"
   ]
  },
  {
   "cell_type": "code",
   "execution_count": null,
   "id": "52ab39f7-daa4-4c7b-997e-896d7943b89c",
   "metadata": {},
   "outputs": [],
   "source": [
    "cwd = Path.cwd()\n",
    "bookdir = cwd / 'books'\n",
    "\n",
    "# Traverse and get all names\n",
    "p = Path(bookdir).glob('**/*')\n",
    "booklist = [x for x in p if x.is_file()]\n",
    "\n",
    "print(booklist)"
   ]
  },
  {
   "cell_type": "code",
   "execution_count": null,
   "id": "3f3177a7-a5ad-499c-91ef-0c674b05e308",
   "metadata": {},
   "outputs": [],
   "source": [
    "book = booklist[0]\n",
    "book_text = open(book).read()\n",
    "book_doc = NER(book_text)"
   ]
  },
  {
   "cell_type": "code",
   "execution_count": null,
   "id": "153036d6-b11c-4987-a8f3-bcaa3fa843a0",
   "metadata": {},
   "outputs": [],
   "source": [
    "# Visualize using displacy\n",
    "displacy.render(book_doc[0:200], style=\"ent\", jupyter=True)"
   ]
  },
  {
   "cell_type": "markdown",
   "id": "1d184d4d-cffc-4ed8-a303-97970c543823",
   "metadata": {},
   "source": [
    "### Import Character List and Clean Up"
   ]
  },
  {
   "cell_type": "code",
   "execution_count": null,
   "id": "0b1cd8e1-4163-48d6-8c97-1b008835abc2",
   "metadata": {},
   "outputs": [],
   "source": [
    "# Load Character dfs\n",
    "characters = pd.read_csv('./characters/characters.csv')\n",
    "characters"
   ]
  },
  {
   "cell_type": "code",
   "execution_count": null,
   "id": "63179633-d299-4eb8-8b15-52a2806ec094",
   "metadata": {},
   "outputs": [],
   "source": [
    "# Remove brackets and text within brackets using regex\n",
    "characters['character'] = characters['character'].apply(lambda x: re.sub(\"[\\(].*?[\\)]\", \"\", x))\n",
    "# If name is split, ie Geralt of Rivia, get only first part\n",
    "characters['character_firstname'] = characters['character'].apply(lambda x: x.split(' ', 1)[0])\n",
    "# Make exception for \"Two Tusks\", because first name of \"Two\" causes problems\n",
    "characters['character_firstname'] = characters['character_firstname'].replace(['Two'], 'Two Tusks')\n",
    "characters.tail(30)"
   ]
  },
  {
   "cell_type": "markdown",
   "id": "308f047b-00ae-4674-b71c-1b340d21aed2",
   "metadata": {},
   "source": [
    "### Get Named Entity List Per Sentence"
   ]
  },
  {
   "cell_type": "code",
   "execution_count": null,
   "id": "2cc44173-ea7f-4cc4-8d5a-93c955d37d61",
   "metadata": {},
   "outputs": [],
   "source": [
    "sentence_entities = []\n",
    "\n",
    "# Loop and find all\n",
    "for sentence in book_doc.sents:\n",
    "    entity_list = [ent.text for ent in sentence.ents]\n",
    "    sentence_entities.append({\"sentence\": sentence, \"entities\": entity_list})\n",
    "    \n",
    "sentence_entities = pd.DataFrame(sentence_entities)"
   ]
  },
  {
   "cell_type": "code",
   "execution_count": null,
   "id": "128447f3-d481-4e32-bb1c-c0b4164c1e18",
   "metadata": {},
   "outputs": [],
   "source": [
    "sentence_entities"
   ]
  },
  {
   "cell_type": "markdown",
   "id": "870a8083-8b06-4603-9b7d-4943ab1b9dda",
   "metadata": {},
   "source": [
    "### Filter out all entities"
   ]
  },
  {
   "cell_type": "code",
   "execution_count": null,
   "id": "b3bc54fc-7639-4afb-bcdd-d8832cd08c4a",
   "metadata": {},
   "outputs": [],
   "source": [
    "def filter_entity(entity_list, characters):\n",
    "    return [ent for ent in entity_list\n",
    "            if ent in list(characters.character)\n",
    "            or ent in list(characters.character_firstname)]"
   ]
  },
  {
   "cell_type": "code",
   "execution_count": null,
   "id": "fe696de4-88eb-4c08-aae2-a3d49d9f33b6",
   "metadata": {},
   "outputs": [],
   "source": [
    "filter_entity([\"Geralt\", \"Thu\", \"Ciri\", \"Nenneke\", \"Two\"], characters)"
   ]
  },
  {
   "cell_type": "markdown",
   "id": "3364e2f2-bd12-4a50-96e6-378e51706f5d",
   "metadata": {},
   "source": [
    "### Apply filter function to dataframe"
   ]
  },
  {
   "cell_type": "code",
   "execution_count": null,
   "id": "19159eeb-6514-4e96-abc9-07d9093a5dc5",
   "metadata": {},
   "outputs": [],
   "source": [
    "sentence_entities['character_entities'] = sentence_entities['entities'].apply(lambda x: filter_entity(x, characters))\n",
    "\n",
    "# Remove sentences where there are no named entities\n",
    "sentence_entities_filtered = sentence_entities[sentence_entities['character_entities'].map(len) > 0]"
   ]
  },
  {
   "cell_type": "code",
   "execution_count": null,
   "id": "a8061605-a4ac-4b92-9296-2583b0b541bb",
   "metadata": {},
   "outputs": [],
   "source": [
    "# Take only first name of character in entities\n",
    "sentence_entities_filtered['character_entities'] = sentence_entities_filtered['character_entities'].apply(lambda x: [item.split()[0]\n",
    "                                                                                               for item in x])\n"
   ]
  },
  {
   "cell_type": "code",
   "execution_count": null,
   "id": "e16c6929-7f65-4f92-9552-2c1166540c60",
   "metadata": {},
   "outputs": [],
   "source": [
    "sentence_entities_filtered"
   ]
  },
  {
   "cell_type": "markdown",
   "id": "65217221-51e9-4896-94cd-e7922b933d79",
   "metadata": {},
   "source": [
    "### Create rolling windows throughout the text and do analysis"
   ]
  },
  {
   "cell_type": "code",
   "execution_count": null,
   "id": "4ef2e828-78ac-4490-a29a-6ce999df1fa7",
   "metadata": {},
   "outputs": [],
   "source": [
    "window_size = 5\n",
    "relationships = []\n",
    "\n",
    "for i in range(sentence_entities_filtered.index[-1]):\n",
    "    end_index = min(i+5, sentence_entities_filtered.index[-1])\n",
    "    character_list = sum((sentence_entities_filtered.loc[i: end_index].character_entities), [])\n",
    "    \n",
    "    # Remove duplicates that are next to each other:\n",
    "    unique_characters = [character_list[i] for i in range(len(character_list))\n",
    "                         if (i==0) or character_list[i] !=character_list[i-1]]\n",
    "    \n",
    "    if len(unique_characters) > 1:\n",
    "        for index, a in enumerate(unique_characters[:-1]):\n",
    "            b = unique_characters[index + 1]\n",
    "            relationships.append({\"source\": a, \"target\": b})"
   ]
  },
  {
   "cell_type": "code",
   "execution_count": null,
   "id": "a661da5f-f95f-4675-a4f8-e2e91fbe2a8c",
   "metadata": {},
   "outputs": [],
   "source": [
    "relationships = pd.DataFrame(relationships)\n",
    "relationships"
   ]
  },
  {
   "cell_type": "markdown",
   "id": "18386847-9966-46ec-ba2c-dafcb85be51a",
   "metadata": {},
   "source": [
    "### Aggregate the relationships"
   ]
  },
  {
   "cell_type": "code",
   "execution_count": null,
   "id": "6337be9e-7e0b-40c0-8b1c-227e4e2461a6",
   "metadata": {},
   "outputs": [],
   "source": [
    "### First need to sort order so its uniform\n",
    "\n",
    "relationships = pd.DataFrame(np.sort(relationships.values, axis=1), columns = relationships.columns)\n",
    "relationships"
   ]
  },
  {
   "cell_type": "code",
   "execution_count": null,
   "id": "77a2f3b3-6383-4894-845d-8e60677cd337",
   "metadata": {},
   "outputs": [],
   "source": [
    "# For each row make the value 1 and sum\n",
    "relationships[\"value\"] = 1\n",
    "relationships = relationships.groupby([\"source\", \"target\"], sort=False, as_index=False).sum()"
   ]
  },
  {
   "cell_type": "code",
   "execution_count": null,
   "id": "bd5a2166-ce69-4872-9145-6f5331f6f749",
   "metadata": {},
   "outputs": [],
   "source": [
    "relationships"
   ]
  },
  {
   "cell_type": "markdown",
   "id": "d69afe29-b1b3-4d21-b21f-a62f5ccb7c68",
   "metadata": {},
   "source": [
    "### Part 3: Graph visualization with networkx"
   ]
  },
  {
   "cell_type": "code",
   "execution_count": null,
   "id": "14750197-f773-4d4f-8cb0-5e8cdfa03f1e",
   "metadata": {},
   "outputs": [],
   "source": [
    "# Create graph from df\n",
    "\n",
    "G = nx.from_pandas_edgelist(relationships,\n",
    "                            source=\"source\",\n",
    "                            target=\"target\",\n",
    "                            edge_attr=\"value\",\n",
    "                            create_using=nx.Graph())"
   ]
  },
  {
   "cell_type": "code",
   "execution_count": null,
   "id": "540485e5-58d1-4742-9d3f-f3baef095f13",
   "metadata": {},
   "outputs": [],
   "source": [
    "plt.figure(figsize=(10,10))\n",
    "pos = nx.kamada_kawai_layout(G)\n",
    "\n",
    "nx.draw(G, with_labels=True, node_color='skyblue', edge_cmap=plt.cm.Blues, pos=pos)\n",
    "plt.show()"
   ]
  },
  {
   "cell_type": "markdown",
   "id": "b6f6a47f-8180-41df-ad5b-23cbc6f2dd25",
   "metadata": {},
   "source": [
    "### Use PyVis instead"
   ]
  },
  {
   "cell_type": "code",
   "execution_count": null,
   "id": "644ad613-85ca-4b76-af5a-20e6ba562ac3",
   "metadata": {},
   "outputs": [],
   "source": [
    "from pyvis.network import Network\n",
    "net = Network(notebook=True, width=\"1000px\", height=\"700px\", bgcolor=\"#222222\", font_color=\"white\")\n",
    "\n",
    "# Make node size relative\n",
    "node_degree = dict(G.degree)\n",
    "\n",
    "# Setting up node size\n",
    "nx.set_node_attributes(G, node_degree, \"size\")\n",
    "\n",
    "# Pass in networkx Graph G\n",
    "net.from_nx(G)\n",
    "net.show(\"witcher.html\")"
   ]
  },
  {
   "cell_type": "markdown",
   "id": "4aa24923-a461-4f3e-88fa-13742ffb0fe0",
   "metadata": {},
   "source": [
    "### More fun analysis, attempting to find most important characters"
   ]
  },
  {
   "cell_type": "code",
   "execution_count": null,
   "id": "2bb3b882-33b0-4999-b89e-2ea797b5858a",
   "metadata": {},
   "outputs": [],
   "source": [
    "# Degree centrality\n",
    "degree_dict = nx.degree_centrality(G)\n",
    "degree_dict"
   ]
  },
  {
   "cell_type": "code",
   "execution_count": null,
   "id": "5f03c157-dbee-4edb-a574-8788c8f0ac4f",
   "metadata": {},
   "outputs": [],
   "source": [
    "degrees = pd.DataFrame.from_dict(degree_dict, orient=\"index\", columns=['centrality'])\n",
    "# Plot top 10\n",
    "plt.style.use('dark_background') #For dark backgrounds\n",
    "degrees.sort_values('centrality', ascending=False)[0:9].plot(kind=\"bar\")"
   ]
  },
  {
   "cell_type": "code",
   "execution_count": null,
   "id": "e3a06325-59c6-4a36-86cc-2d07956d7c55",
   "metadata": {},
   "outputs": [],
   "source": [
    "# Closeness centrality\n",
    "closeness_dict = nx.closeness_centrality(G)\n",
    "closeness = pd.DataFrame.from_dict(closeness_dict, orient='index', columns=['centrality'])\n",
    "# Plot the top 10\n",
    "closeness.sort_values('centrality', ascending=False)[0:9].plot(kind=\"bar\")"
   ]
  },
  {
   "cell_type": "code",
   "execution_count": null,
   "id": "02f58329-bb97-424c-9d38-630c334c4f2c",
   "metadata": {},
   "outputs": [],
   "source": [
    "# Betweeness centrality\n",
    "betweenness_dict = nx.betweenness_centrality(G)\n",
    "betweenness = pd.DataFrame.from_dict(betweenness_dict, orient='index', columns=['centrality'])\n",
    "# Plot the top 10\n",
    "betweenness.sort_values('centrality', ascending=False)[0:9].plot(kind=\"bar\")"
   ]
  },
  {
   "cell_type": "code",
   "execution_count": null,
   "id": "30e1b672-b59a-4631-a177-2917dc564992",
   "metadata": {},
   "outputs": [],
   "source": [
    "# Save centrality measure\n",
    "\n",
    "nx.set_node_attributes(G, degree_dict, 'degree_centrality')\n",
    "nx.set_node_attributes(G, closeness_dict, 'closeness_centrality')\n",
    "nx.set_node_attributes(G, betweenness_dict, 'betweenness_centrality')"
   ]
  },
  {
   "cell_type": "markdown",
   "id": "b06e8e55-484a-45ef-80ac-bb08a6ec2499",
   "metadata": {},
   "source": [
    "#### Community Detection"
   ]
  },
  {
   "cell_type": "code",
   "execution_count": null,
   "id": "623bb1aa-905f-441d-aa1b-f07f659dd7fb",
   "metadata": {},
   "outputs": [],
   "source": [
    "communities = community_louvain.best_partition(G)"
   ]
  },
  {
   "cell_type": "code",
   "execution_count": null,
   "id": "ae348817-3910-4401-bb99-7c4b0602e5ae",
   "metadata": {},
   "outputs": [],
   "source": [
    "communities"
   ]
  },
  {
   "cell_type": "code",
   "execution_count": null,
   "id": "1ead933a-97be-45f5-9672-878f7dae5572",
   "metadata": {},
   "outputs": [],
   "source": [
    "nx.set_node_attributes(G, communities, 'group')"
   ]
  },
  {
   "cell_type": "code",
   "execution_count": null,
   "id": "261ee69b-35c0-4056-aca6-80b6d3b47511",
   "metadata": {},
   "outputs": [],
   "source": [
    "com_net = Network(notebook = True, width=\"1000px\", height=\"700px\", bgcolor='#00000F', font_color='white')\n",
    "com_net.from_nx(G)\n",
    "com_net.show(\"witcher_communities.html\")"
   ]
  },
  {
   "cell_type": "code",
   "execution_count": null,
   "id": "f98b9008-7cef-4c18-ad42-e6c2d94172a4",
   "metadata": {},
   "outputs": [],
   "source": []
  },
  {
   "cell_type": "markdown",
   "id": "991515d6-087a-480e-b32a-7013a28d4cc0",
   "metadata": {
    "tags": []
   },
   "source": [
    "### Misc"
   ]
  },
  {
   "cell_type": "markdown",
   "id": "23e20c87-f761-44e5-a87c-8a6ed80b8522",
   "metadata": {},
   "source": [
    "### Find this \"two\""
   ]
  },
  {
   "cell_type": "code",
   "execution_count": null,
   "id": "2ba9704e-a3a0-43e4-9ddc-1006e55a57c8",
   "metadata": {},
   "outputs": [],
   "source": [
    "characters"
   ]
  },
  {
   "cell_type": "code",
   "execution_count": null,
   "id": "3d6f26a0-b0cc-4eda-89fc-d78c745c006f",
   "metadata": {},
   "outputs": [],
   "source": [
    "find_two_chars = characters.loc[characters['character'].str.contains('Two', case=False)]\n",
    "find_two_chars"
   ]
  },
  {
   "cell_type": "code",
   "execution_count": null,
   "id": "8b022cb2-6c34-43b0-a220-396d691a609e",
   "metadata": {},
   "outputs": [],
   "source": [
    "find_two_src = relationships.loc[relationships['source'].str.contains('Two', case=False)]\n",
    "find_two_tar = relationships.loc[relationships['target'].str.contains('Two', case=False)]\n",
    "find_two_src"
   ]
  },
  {
   "cell_type": "code",
   "execution_count": null,
   "id": "11e6b31b-7806-454b-ae54-5d6269d1992b",
   "metadata": {},
   "outputs": [],
   "source": [
    "for p in Path(bookdir).iterdir():\n",
    "    print(p)"
   ]
  },
  {
   "cell_type": "code",
   "execution_count": null,
   "id": "3907556d-ae2f-4077-8b7a-84964361e1a4",
   "metadata": {},
   "outputs": [],
   "source": [
    "booklist = [x for x in os.listdir(bookdir) if x.endswith(\".txt\")]\n",
    "booklist"
   ]
  },
  {
   "cell_type": "code",
   "execution_count": null,
   "id": "dce68ffa-094f-4512-99d4-7f6270be4168",
   "metadata": {},
   "outputs": [],
   "source": [
    "book = booklist[0]\n",
    "book_text"
   ]
  }
 ],
 "metadata": {
  "kernelspec": {
   "display_name": "Python 3 (ipykernel)",
   "language": "python",
   "name": "python3"
  },
  "language_info": {
   "codemirror_mode": {
    "name": "ipython",
    "version": 3
   },
   "file_extension": ".py",
   "mimetype": "text/x-python",
   "name": "python",
   "nbconvert_exporter": "python",
   "pygments_lexer": "ipython3",
   "version": "3.8.10"
  }
 },
 "nbformat": 4,
 "nbformat_minor": 5
}
