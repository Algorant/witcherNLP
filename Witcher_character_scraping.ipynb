{
 "cells": [
  {
   "cell_type": "code",
   "execution_count": 16,
   "id": "9d088c9c-00b2-4553-b60e-5524d32b0a92",
   "metadata": {},
   "outputs": [],
   "source": [
    "import pandas as pd\n",
    "import time\n",
    "from selenium import webdriver\n",
    "from selenium.webdriver.firefox.service import Service as FirefoxService\n",
    "from webdriver_manager.firefox import GeckoDriverManager\n",
    "from selenium.webdriver.common.by import By\n",
    "import matplotlib.pyplot as plt"
   ]
  },
  {
   "cell_type": "code",
   "execution_count": null,
   "id": "d9c5cbf7-aa6f-4fc1-89fd-96ed52ba3e0e",
   "metadata": {},
   "outputs": [],
   "source": [
    "# Create Webdriver\n",
    "\n",
    "driver = webdriver.Firefox(service=FirefoxService(GeckoDriverManager().install()))"
   ]
  },
  {
   "cell_type": "code",
   "execution_count": null,
   "id": "c6b61401-9b35-4c4d-b908-4dd640c513a7",
   "metadata": {},
   "outputs": [],
   "source": [
    "page_url = \"https://witcher.fandom.com/wiki/Category:Characters_in_the_stories\"\n",
    "\n",
    "driver.get(page_url)"
   ]
  },
  {
   "cell_type": "code",
   "execution_count": null,
   "id": "31eb6bc0-27a4-43ba-a0be-ddefe96e8a58",
   "metadata": {},
   "outputs": [],
   "source": [
    "# Find the books\n",
    "from selenium.webdriver.common.by import By\n",
    "\n",
    "book_categories = driver.find_elements(By.CLASS_NAME, 'category-page__member-link')\n",
    "\n",
    "print(\"Text: \", book_categories[0].text,\"\\n\", \"href:\", book_categories[0].get_attribute('href'))"
   ]
  },
  {
   "cell_type": "code",
   "execution_count": null,
   "id": "bbe6ca91-1727-47cb-b179-d929853a44bd",
   "metadata": {},
   "outputs": [],
   "source": [
    "# Go in and get each character and element\n",
    "\n",
    "character_elements = driver.find_elements(By.CLASS_NAME, 'category-page__member-link')"
   ]
  },
  {
   "cell_type": "code",
   "execution_count": null,
   "id": "2ae19ddf-3ffe-47ec-8a92-3c75a8b2eb7d",
   "metadata": {},
   "outputs": [],
   "source": [
    "character_elements[0].text"
   ]
  },
  {
   "cell_type": "markdown",
   "id": "56e2c7d3-8414-4ca9-9a7c-5fd0fedbb82a",
   "metadata": {},
   "source": [
    "## Initiate Driver and get all Books"
   ]
  },
  {
   "cell_type": "code",
   "execution_count": 7,
   "id": "af29bdc3-0bd9-437c-ba42-d883be3b8899",
   "metadata": {},
   "outputs": [
    {
     "name": "stderr",
     "output_type": "stream",
     "text": [
      "[WDM] - Downloading: 16.2kB [00:00, 12.4MB/s]                                                              \n"
     ]
    },
    {
     "name": "stdout",
     "output_type": "stream",
     "text": [
      "Text:  Category:Baptism of Fire characters \n",
      " href: https://witcher.fandom.com/wiki/Category:Baptism_of_Fire_characters\n"
     ]
    }
   ],
   "source": [
    "# Create Driver\n",
    "driver = webdriver.Firefox(service=FirefoxService(GeckoDriverManager().install()))\n",
    "\n",
    "# Go to the Character's in the books page\n",
    "page_url = \"https://witcher.fandom.com/wiki/Category:Characters_in_the_stories\"\n",
    "driver.get(page_url)\n",
    "\n",
    "# Find The Books\n",
    "book_categories = driver.find_elements(By.CLASS_NAME, 'category-page__member-link')\n",
    "# print(\"Text: \", book_categories[0].text,\"\\n\", \"href:\", book_categories[0].get_attribute('href'))\n",
    "\n",
    "# Loop through all books\n",
    "books = []\n",
    "for category in book_categories:\n",
    "    book_url = category.get_attribute('href')\n",
    "    book_name = category.text\n",
    "    books.append({'book_name': book_name, 'url': book_url})"
   ]
  },
  {
   "cell_type": "markdown",
   "id": "a7d96314-3cce-4880-82b8-19f00c660835",
   "metadata": {},
   "source": [
    "### Get Characters in Each Book"
   ]
  },
  {
   "cell_type": "code",
   "execution_count": 9,
   "id": "ec0c866d-3e6c-4df5-a7e5-46b2d13e8089",
   "metadata": {},
   "outputs": [],
   "source": [
    "character_list = []\n",
    "\n",
    "for book in books:\n",
    "    # Go to each book page\n",
    "    driver.get(book['url'])\n",
    "    \n",
    "    character_elements = driver.find_elements(By.CLASS_NAME, 'category-page__member-link')\n",
    "    \n",
    "    for elem in character_elements:\n",
    "        character_list.append({'book': book['book_name'], 'character': elem.text})"
   ]
  },
  {
   "cell_type": "code",
   "execution_count": 12,
   "id": "16e6cfc5-3fd6-4c64-9f70-a58c876b187d",
   "metadata": {},
   "outputs": [
    {
     "data": {
      "text/html": [
       "<div>\n",
       "<style scoped>\n",
       "    .dataframe tbody tr th:only-of-type {\n",
       "        vertical-align: middle;\n",
       "    }\n",
       "\n",
       "    .dataframe tbody tr th {\n",
       "        vertical-align: top;\n",
       "    }\n",
       "\n",
       "    .dataframe thead th {\n",
       "        text-align: right;\n",
       "    }\n",
       "</style>\n",
       "<table border=\"1\" class=\"dataframe\">\n",
       "  <thead>\n",
       "    <tr style=\"text-align: right;\">\n",
       "      <th></th>\n",
       "      <th>book</th>\n",
       "      <th>character</th>\n",
       "    </tr>\n",
       "  </thead>\n",
       "  <tbody>\n",
       "    <tr>\n",
       "      <th>0</th>\n",
       "      <td>Category:Baptism of Fire characters</td>\n",
       "      <td>Adalia</td>\n",
       "    </tr>\n",
       "    <tr>\n",
       "      <th>1</th>\n",
       "      <td>Category:Baptism of Fire characters</td>\n",
       "      <td>Adela</td>\n",
       "    </tr>\n",
       "    <tr>\n",
       "      <th>2</th>\n",
       "      <td>Category:Baptism of Fire characters</td>\n",
       "      <td>Aen Saevherne</td>\n",
       "    </tr>\n",
       "    <tr>\n",
       "      <th>3</th>\n",
       "      <td>Category:Baptism of Fire characters</td>\n",
       "      <td>Aevenien</td>\n",
       "    </tr>\n",
       "    <tr>\n",
       "      <th>4</th>\n",
       "      <td>Category:Baptism of Fire characters</td>\n",
       "      <td>Aglaïs</td>\n",
       "    </tr>\n",
       "  </tbody>\n",
       "</table>\n",
       "</div>"
      ],
      "text/plain": [
       "                                  book      character\n",
       "0  Category:Baptism of Fire characters         Adalia\n",
       "1  Category:Baptism of Fire characters          Adela\n",
       "2  Category:Baptism of Fire characters  Aen Saevherne\n",
       "3  Category:Baptism of Fire characters       Aevenien\n",
       "4  Category:Baptism of Fire characters         Aglaïs"
      ]
     },
     "execution_count": 12,
     "metadata": {},
     "output_type": "execute_result"
    }
   ],
   "source": [
    "# Put character list in df\n",
    "\n",
    "characters = pd.DataFrame(character_list)\n",
    "characters.head()"
   ]
  },
  {
   "cell_type": "code",
   "execution_count": 19,
   "id": "9ef634b2-2da5-44bc-bed1-4815f0f5aa7c",
   "metadata": {},
   "outputs": [
    {
     "data": {
      "image/png": "[encoded data removed]",
      "text/plain": [
       "<Figure size 432x288 with 1 Axes>"
      ]
     },
     "metadata": {},
     "output_type": "display_data"
    }
   ],
   "source": [
    "# Do some quick EDA\n",
    "plt.style.use('dark_background') # for dark modes\n",
    "characters['book'].value_counts().plot(kind=\"bar\")\n",
    "plt.show()"
   ]
  },
  {
   "cell_type": "markdown",
   "id": "d8ac2b4c-16d9-4619-81ba-12f4ae86dfea",
   "metadata": {},
   "source": [
    "### Save To CSV"
   ]
  },
  {
   "cell_type": "code",
   "execution_count": 22,
   "id": "85843027-09b9-4e91-94af-e98537ffb8f5",
   "metadata": {},
   "outputs": [],
   "source": [
    "characters.to_csv('./characters/characters.csv', index=False)"
   ]
  },
  {
   "cell_type": "code",
   "execution_count": null,
   "id": "b974172b-e5b8-423a-9dd5-28f94ff9b88d",
   "metadata": {},
   "outputs": [],
   "source": []
  }
 ],
 "metadata": {
  "kernelspec": {
   "display_name": "Python 3 (ipykernel)",
   "language": "python",
   "name": "python3"
  },
  "language_info": {
   "codemirror_mode": {
    "name": "ipython",
    "version": 3
   },
   "file_extension": ".py",
   "mimetype": "text/x-python",
   "name": "python",
   "nbconvert_exporter": "python",
   "pygments_lexer": "ipython3",
   "version": "3.8.10"
  }
 },
 "nbformat": 4,
 "nbformat_minor": 5
}
