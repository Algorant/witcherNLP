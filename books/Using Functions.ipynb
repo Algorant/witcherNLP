{
 "cells": [
  {
   "cell_type": "code",
   "execution_count": 25,
   "id": "956ade65-56b0-4e42-aeb1-101bcc5740e3",
   "metadata": {},
   "outputs": [],
   "source": [
    "import pandas as pd\n",
    "import numpy as np\n",
    "import spacy\n",
    "from pathlib import Path\n",
    "import os\n",
    "import sys\n",
    "from spacy import displacy\n",
    "import networkx as nx\n",
    "import matplotlib.pyplot as plt\n",
    "import community as community_louvain\n",
    "import re\n",
    "from pyvis.network import Network\n",
    "\n",
    "# Import custom functions\n",
    "cwd = Path.cwd()\n",
    "one_step_up = cwd.parent\n",
    "one_step_up\n",
    "util_path = str(one_step_up)\n",
    "sys.path.append(util_path)\n",
    "\n",
    "from lib.utils.functions import *"
   ]
  },
  {
   "cell_type": "markdown",
   "id": "12f08701-0220-4efc-954a-62bd6b08d0fa",
   "metadata": {},
   "source": [
    "### Get All Books in Witcher"
   ]
  },
  {
   "cell_type": "code",
   "execution_count": 19,
   "id": "77ecff10-8992-4087-a777-53279c78271a",
   "metadata": {},
   "outputs": [],
   "source": [
    "# Put all books in a list and sort\n",
    "\n",
    "cwd = Path.cwd()\n",
    "bookdir = cwd / 'books'\n",
    "\n",
    "# Traverse and get all names\n",
    "p = Path(cwd).glob('**/*')\n",
    "booklist = [x for x in p if x.is_file()]\n",
    "# booklist\n",
    "booklist_smaller = booklist[0:5]"
   ]
  },
  {
   "cell_type": "code",
   "execution_count": 20,
   "id": "463b2dd2-69e4-481b-9252-504afb9fb7fa",
   "metadata": {},
   "outputs": [
    {
     "data": {
      "text/plain": [
       "[PosixPath('/mnt/d/Algorant/witcher_nlp/books/1 The Last Wish.txt'),\n",
       " PosixPath('/mnt/d/Algorant/witcher_nlp/books/2 The Sword of Destiny.txt'),\n",
       " PosixPath('/mnt/d/Algorant/witcher_nlp/books/3 Blood of Elves.txt'),\n",
       " PosixPath('/mnt/d/Algorant/witcher_nlp/books/4 Times of Contempt.txt'),\n",
       " PosixPath('/mnt/d/Algorant/witcher_nlp/books/5 Baptism of Fire.txt')]"
      ]
     },
     "execution_count": 20,
     "metadata": {},
     "output_type": "execute_result"
    }
   ],
   "source": [
    "booklist_smaller"
   ]
  },
  {
   "cell_type": "markdown",
   "id": "b745d16d-5e9c-4919-a7a9-5ff603c4fcd7",
   "metadata": {},
   "source": [
    "### Load and Filter Characters"
   ]
  },
  {
   "cell_type": "code",
   "execution_count": 21,
   "id": "3607b03b-3ac5-4a2d-86b2-54d0e5e3cd1d",
   "metadata": {},
   "outputs": [],
   "source": [
    "# Load Character dfs\n",
    "charpath = one_step_up / 'characters'\n",
    "characters = pd.read_csv(f\"{charpath}/characters.csv\")\n",
    "# Remove brackets and text within brackets using regex\n",
    "characters['character'] = characters['character'].apply(lambda x: re.sub(\"[\\(].*?[\\)]\", \"\", x))\n",
    "# If name is split, ie Geralt of Rivia, get only first part\n",
    "characters['character_firstname'] = characters['character'].apply(lambda x: x.split(' ', 1)[0])\n",
    "# Make exception for \"Two Tusks\", because first name of \"Two\" causes problems\n",
    "characters['character_firstname'] = characters['character_firstname'].replace(['Two'], 'Two Tusks')"
   ]
  },
  {
   "cell_type": "markdown",
   "id": "1f1820e6-35dc-431a-952c-006af95a1e69",
   "metadata": {},
   "source": [
    "### Iterate through all books and create graphs"
   ]
  },
  {
   "cell_type": "code",
   "execution_count": 22,
   "id": "b14d6298-e1c5-4b3b-907d-0b2455c81308",
   "metadata": {},
   "outputs": [
    {
     "name": "stderr",
     "output_type": "stream",
     "text": [
      "/tmp/ipykernel_11885/2137085401.py:16: SettingWithCopyWarning: \n",
      "A value is trying to be set on a copy of a slice from a DataFrame.\n",
      "Try using .loc[row_indexer,col_indexer] = value instead\n",
      "\n",
      "See the caveats in the documentation: https://pandas.pydata.org/pandas-docs/stable/user_guide/indexing.html#returning-a-view-versus-a-copy\n",
      "  sent_entity_df_filtered['character_entities'] = sent_entity_df_filtered['character_entities'].apply(lambda x: [item.split()[0]\n",
      "/tmp/ipykernel_11885/2137085401.py:16: SettingWithCopyWarning: \n",
      "A value is trying to be set on a copy of a slice from a DataFrame.\n",
      "Try using .loc[row_indexer,col_indexer] = value instead\n",
      "\n",
      "See the caveats in the documentation: https://pandas.pydata.org/pandas-docs/stable/user_guide/indexing.html#returning-a-view-versus-a-copy\n",
      "  sent_entity_df_filtered['character_entities'] = sent_entity_df_filtered['character_entities'].apply(lambda x: [item.split()[0]\n",
      "/tmp/ipykernel_11885/2137085401.py:16: SettingWithCopyWarning: \n",
      "A value is trying to be set on a copy of a slice from a DataFrame.\n",
      "Try using .loc[row_indexer,col_indexer] = value instead\n",
      "\n",
      "See the caveats in the documentation: https://pandas.pydata.org/pandas-docs/stable/user_guide/indexing.html#returning-a-view-versus-a-copy\n",
      "  sent_entity_df_filtered['character_entities'] = sent_entity_df_filtered['character_entities'].apply(lambda x: [item.split()[0]\n",
      "/tmp/ipykernel_11885/2137085401.py:16: SettingWithCopyWarning: \n",
      "A value is trying to be set on a copy of a slice from a DataFrame.\n",
      "Try using .loc[row_indexer,col_indexer] = value instead\n",
      "\n",
      "See the caveats in the documentation: https://pandas.pydata.org/pandas-docs/stable/user_guide/indexing.html#returning-a-view-versus-a-copy\n",
      "  sent_entity_df_filtered['character_entities'] = sent_entity_df_filtered['character_entities'].apply(lambda x: [item.split()[0]\n",
      "/tmp/ipykernel_11885/2137085401.py:16: SettingWithCopyWarning: \n",
      "A value is trying to be set on a copy of a slice from a DataFrame.\n",
      "Try using .loc[row_indexer,col_indexer] = value instead\n",
      "\n",
      "See the caveats in the documentation: https://pandas.pydata.org/pandas-docs/stable/user_guide/indexing.html#returning-a-view-versus-a-copy\n",
      "  sent_entity_df_filtered['character_entities'] = sent_entity_df_filtered['character_entities'].apply(lambda x: [item.split()[0]\n"
     ]
    }
   ],
   "source": [
    "books_graph = []\n",
    "\n",
    "for book in booklist_smaller:\n",
    "    book_text = textproc(book)\n",
    "    \n",
    "    # Get list of entities per sentence\n",
    "    sent_entity_df = get_sentence_entities(book_text)\n",
    "    \n",
    "    # Select only character entities\n",
    "    sent_entity_df['character_entities'] = sent_entity_df['entities'].apply(lambda x: filter_entity(x, characters))\n",
    "    \n",
    "    # Filter out sentences that don't have character entities\n",
    "    sent_entity_df_filtered = sent_entity_df[sent_entity_df['character_entities'].map(len) > 0]\n",
    "    \n",
    "    # Take out first names\n",
    "    sent_entity_df_filtered['character_entities'] = sent_entity_df_filtered['character_entities'].apply(lambda x: [item.split()[0]\n",
    "                                                                                                                  for item in x])\n",
    "    # Create relationship df\n",
    "    relationships = create_relationships(df = sent_entity_df_filtered, window_size = 5)\n",
    "    \n",
    "    # Create network graph from df\n",
    "    \n",
    "    G = nx.from_pandas_edgelist(relationships,\n",
    "                                source = \"source\",\n",
    "                                target = \"target\",\n",
    "                                edge_attr = \"value\",\n",
    "                                create_using = nx.Graph())\n",
    "    \n",
    "    books_graph.append(G)\n",
    "    "
   ]
  },
  {
   "cell_type": "markdown",
   "id": "6ea26b6c-fa23-4b91-8b60-d6c770c593d8",
   "metadata": {},
   "source": [
    "### Testing with 5 books"
   ]
  },
  {
   "cell_type": "code",
   "execution_count": 23,
   "id": "6e0e9af2-4b6b-4065-ab09-3f4a899d82a9",
   "metadata": {},
   "outputs": [
    {
     "data": {
      "text/plain": [
       "<AxesSubplot:>"
      ]
     },
     "execution_count": 23,
     "metadata": {},
     "output_type": "execute_result"
    },
    {
     "data": {
      "image/png": "[encoded data removed]",
      "text/plain": [
       "<Figure size 432x288 with 1 Axes>"
      ]
     },
     "metadata": {
      "needs_background": "light"
     },
     "output_type": "display_data"
    }
   ],
   "source": [
    "evol = [nx.degree_centrality(book) for book in books_graph]\n",
    "\n",
    "degree_evol_df = pd.DataFrame.from_records(evol)\n",
    "\n",
    "# Plotting Centrality of Main Characters\n",
    "\n",
    "degree_evol_df[[\"Geralt\", \"Ciri\", \"Yennefer\", \"Dandelion\", \"Vesemir\"]].plot()"
   ]
  },
  {
   "cell_type": "markdown",
   "id": "ed60efb6-8a28-436f-b439-4208b2329240",
   "metadata": {},
   "source": [
    "### Making Community Graph again with 5 books"
   ]
  },
  {
   "cell_type": "code",
   "execution_count": 27,
   "id": "9a935ddf-c32c-4da8-9b5c-a5364aceb489",
   "metadata": {},
   "outputs": [
    {
     "data": {
      "text/html": [
       "\n",
       "        <iframe\n",
       "            width=\"1000px\"\n",
       "            height=\"700px\"\n",
       "            src=\"witcher.html\"\n",
       "            frameborder=\"0\"\n",
       "            allowfullscreen\n",
       "            \n",
       "        ></iframe>\n",
       "        "
      ],
      "text/plain": [
       "<IPython.lib.display.IFrame at 0x7efe20af58e0>"
      ]
     },
     "execution_count": 27,
     "metadata": {},
     "output_type": "execute_result"
    }
   ],
   "source": [
    "net = Network(notebook=True, width=\"1000px\", height=\"700px\", bgcolor=\"#222222\", font_color=\"white\")\n",
    "\n",
    "# Make node size relative\n",
    "node_degree = dict(G.degree)\n",
    "\n",
    "# Setting up node size\n",
    "nx.set_node_attributes(G, node_degree, \"size\")\n",
    "\n",
    "# Pass in networkx Graph G\n",
    "net.from_nx(G)\n",
    "net.show(\"witcher.html\")"
   ]
  },
  {
   "cell_type": "code",
   "execution_count": 28,
   "id": "20db2601-4828-4be1-9da1-2390ac5de4b8",
   "metadata": {},
   "outputs": [
    {
     "data": {
      "text/html": [
       "\n",
       "        <iframe\n",
       "            width=\"1000px\"\n",
       "            height=\"700px\"\n",
       "            src=\"witcher_communities.html\"\n",
       "            frameborder=\"0\"\n",
       "            allowfullscreen\n",
       "            \n",
       "        ></iframe>\n",
       "        "
      ],
      "text/plain": [
       "<IPython.lib.display.IFrame at 0x7efe21eaefa0>"
      ]
     },
     "execution_count": 28,
     "metadata": {},
     "output_type": "execute_result"
    }
   ],
   "source": [
    "communities = community_louvain.best_partition(G)\n",
    "nx.set_node_attributes(G, communities, 'group')\n",
    "com_net = Network(notebook = True, width=\"1000px\", height=\"700px\", bgcolor='#00000F', font_color='white')\n",
    "com_net.from_nx(G)\n",
    "com_net.show(\"witcher_communities.html\")"
   ]
  },
  {
   "cell_type": "code",
   "execution_count": null,
   "id": "e343dd86-5a3f-45b0-b031-bbd5f3b9c998",
   "metadata": {},
   "outputs": [],
   "source": []
  }
 ],
 "metadata": {
  "kernelspec": {
   "display_name": "Python 3 (ipykernel)",
   "language": "python",
   "name": "python3"
  },
  "language_info": {
   "codemirror_mode": {
    "name": "ipython",
    "version": 3
   },
   "file_extension": ".py",
   "mimetype": "text/x-python",
   "name": "python",
   "nbconvert_exporter": "python",
   "pygments_lexer": "ipython3",
   "version": "3.8.10"
  }
 },
 "nbformat": 4,
 "nbformat_minor": 5
}
