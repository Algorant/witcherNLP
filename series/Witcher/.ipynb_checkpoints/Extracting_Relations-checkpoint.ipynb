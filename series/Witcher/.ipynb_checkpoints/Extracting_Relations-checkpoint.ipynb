{
 "cells": [
  {
   "cell_type": "code",
   "execution_count": 1,
   "id": "cceb02fa-6e1e-4718-a15d-74cf98209431",
   "metadata": {},
   "outputs": [],
   "source": [
    "import pandas as pd\n",
    "import numpy as np\n",
    "import spacy\n",
    "from pathlib import Path\n",
    "import os\n",
    "from spacy import displacy\n",
    "import networkx as nx\n",
    "import matplotlib.pyplot as plt\n",
    "import community as community_louvain\n",
    "import re"
   ]
  },
  {
   "cell_type": "code",
   "execution_count": 3,
   "id": "4f71132c-d58d-4800-aa02-620f9f9b6689",
   "metadata": {},
   "outputs": [],
   "source": [
    "# Load simple language model, need to download this spacy en dictionary ahead of time\n",
    "NER = spacy.load(\"en_core_web_sm\")"
   ]
  },
  {
   "cell_type": "markdown",
   "id": "9e6df059-107b-4d56-a9aa-1f9e2263a0a1",
   "metadata": {},
   "source": [
    "### Get the Books"
   ]
  },
  {
   "cell_type": "code",
   "execution_count": 4,
   "id": "52ab39f7-daa4-4c7b-997e-896d7943b89c",
   "metadata": {},
   "outputs": [
    {
     "name": "stdout",
     "output_type": "stream",
     "text": [
      "[PosixPath('/mnt/d/Algorant/witcher_nlp/books/1 The Last Wish.txt'), PosixPath('/mnt/d/Algorant/witcher_nlp/books/2 The Sword of Destiny.txt'), PosixPath('/mnt/d/Algorant/witcher_nlp/books/3 Blood of Elves.txt'), PosixPath('/mnt/d/Algorant/witcher_nlp/books/4 Times of Contempt.txt'), PosixPath('/mnt/d/Algorant/witcher_nlp/books/5 Baptism of Fire.txt'), PosixPath('/mnt/d/Algorant/witcher_nlp/books/6 The Tower of the Swallow.txt'), PosixPath('/mnt/d/Algorant/witcher_nlp/books/7 The Lady of the Lake.txt'), PosixPath('/mnt/d/Algorant/witcher_nlp/books/8 something ends something begins.txt')]\n"
     ]
    }
   ],
   "source": [
    "cwd = Path.cwd()\n",
    "bookdir = cwd / 'books'\n",
    "\n",
    "# Traverse and get all names\n",
    "p = Path(bookdir).glob('**/*')\n",
    "booklist = [x for x in p if x.is_file()]\n",
    "\n",
    "print(booklist)"
   ]
  },
  {
   "cell_type": "code",
   "execution_count": 5,
   "id": "3f3177a7-a5ad-499c-91ef-0c674b05e308",
   "metadata": {},
   "outputs": [],
   "source": [
    "book = booklist[0]\n",
    "book_text = open(book).read()\n",
    "book_doc = NER(book_text)"
   ]
  },
  {
   "cell_type": "code",
   "execution_count": 6,
   "id": "153036d6-b11c-4987-a8f3-bcaa3fa843a0",
   "metadata": {},
   "outputs": [
    {
     "data": {
      "text/html": [
       "<span class=\"tex2jax_ignore\"><div class=\"entities\" style=\"line-height: 2.5; direction: ltr\">﻿'Does she always devour her victims?' </br></br>Velerad spat vehemently on the straw. </br></br>'Come on, \n",
       "<mark class=\"entity\" style=\"background: #aa9cfc; padding: 0.45em 0.6em; margin: 0 0.25em; line-height: 1; border-radius: 0.35em;\">\n",
       "    Geralt\n",
       "    <span style=\"font-size: 0.8em; font-weight: bold; line-height: 1; border-radius: 0.35em; vertical-align: middle; margin-left: 0.5rem\">PERSON</span>\n",
       "</mark>\n",
       ", it'll be supper soon. Pish! Devours, takes a bite, leaves aside, it varies - </br>according to her mood, no doubt. She only bit the head from one, gutted a couple, and a few </br>more she picked clean to the bone, sucked them dry, you could say. Damned mother's-!' </br></br>'Careful, \n",
       "<mark class=\"entity\" style=\"background: #feca74; padding: 0.45em 0.6em; margin: 0 0.25em; line-height: 1; border-radius: 0.35em;\">\n",
       "    Velerad\n",
       "    <span style=\"font-size: 0.8em; font-weight: bold; line-height: 1; border-radius: 0.35em; vertical-align: middle; margin-left: 0.5rem\">GPE</span>\n",
       "</mark>\n",
       ",' snarled \n",
       "<mark class=\"entity\" style=\"background: #7aecec; padding: 0.45em 0.6em; margin: 0 0.25em; line-height: 1; border-radius: 0.35em;\">\n",
       "    Ostrit\n",
       "    <span style=\"font-size: 0.8em; font-weight: bold; line-height: 1; border-radius: 0.35em; vertical-align: middle; margin-left: 0.5rem\">ORG</span>\n",
       "</mark>\n",
       ". 'Say what you want about the striga but do not insult \n",
       "<mark class=\"entity\" style=\"background: #aa9cfc; padding: 0.45em 0.6em; margin: 0 0.25em; line-height: 1; border-radius: 0.35em;\">\n",
       "    Adda\n",
       "    <span style=\"font-size: 0.8em; font-weight: bold; line-height: 1; border-radius: 0.35em; vertical-align: middle; margin-left: 0.5rem\">PERSON</span>\n",
       "</mark>\n",
       " </br>in front of me, as you would not dare in the king's presence!' </br></br>'Has anyone she's attacked survived?' The witcher asked, apparently paying no special </br>attention to the magnate's outburst. </br></br>\n",
       "<mark class=\"entity\" style=\"background: #aa9cfc; padding: 0.45em 0.6em; margin: 0 0.25em; line-height: 1; border-radius: 0.35em;\">\n",
       "    Segelin\n",
       "    <span style=\"font-size: 0.8em; font-weight: bold; line-height: 1; border-radius: 0.35em; vertical-align: middle; margin-left: 0.5rem\">PERSON</span>\n",
       "</mark>\n",
       " and \n",
       "<mark class=\"entity\" style=\"background: #feca74; padding: 0.45em 0.6em; margin: 0 0.25em; line-height: 1; border-radius: 0.35em;\">\n",
       "    Ostrit\n",
       "    <span style=\"font-size: 0.8em; font-weight: bold; line-height: 1; border-radius: 0.35em; vertical-align: middle; margin-left: 0.5rem\">GPE</span>\n",
       "</mark>\n",
       " looked at each other. </br></br>'Yes,' said the bearded man. 'At the very beginning, \n",
       "<mark class=\"entity\" style=\"background: #bfe1d9; padding: 0.45em 0.6em; margin: 0 0.25em; line-height: 1; border-radius: 0.35em;\">\n",
       "    seven years ago\n",
       "    <span style=\"font-size: 0.8em; font-weight: bold; line-height: 1; border-radius: 0.35em; vertical-align: middle; margin-left: 0.5rem\">DATE</span>\n",
       "</mark>\n",
       ", she threw herself at \n",
       "<mark class=\"entity\" style=\"background: #e4e7d2; padding: 0.45em 0.6em; margin: 0 0.25em; line-height: 1; border-radius: 0.35em;\">\n",
       "    two\n",
       "    <span style=\"font-size: 0.8em; font-weight: bold; line-height: 1; border-radius: 0.35em; vertical-align: middle; margin-left: 0.5rem\">CARDINAL</span>\n",
       "</mark>\n",
       " </br>soldiers standing guard over the crypt. \n",
       "<mark class=\"entity\" style=\"background: #e4e7d2; padding: 0.45em 0.6em; margin: 0 0.25em; line-height: 1; border-radius: 0.35em;\">\n",
       "    One\n",
       "    <span style=\"font-size: 0.8em; font-weight: bold; line-height: 1; border-radius: 0.35em; vertical-align: middle; margin-left: 0.5rem\">CARDINAL</span>\n",
       "</mark>\n",
       " escaped-' </div></span>"
      ],
      "text/plain": [
       "<IPython.core.display.HTML object>"
      ]
     },
     "metadata": {},
     "output_type": "display_data"
    }
   ],
   "source": [
    "# Visualize using displacy\n",
    "displacy.render(book_doc[0:200], style=\"ent\", jupyter=True)"
   ]
  },
  {
   "cell_type": "markdown",
   "id": "1d184d4d-cffc-4ed8-a303-97970c543823",
   "metadata": {},
   "source": [
    "### Import Character List and Clean Up"
   ]
  },
  {
   "cell_type": "code",
   "execution_count": 7,
   "id": "0b1cd8e1-4163-48d6-8c97-1b008835abc2",
   "metadata": {},
   "outputs": [
    {
     "data": {
      "text/html": [
       "<div>\n",
       "<style scoped>\n",
       "    .dataframe tbody tr th:only-of-type {\n",
       "        vertical-align: middle;\n",
       "    }\n",
       "\n",
       "    .dataframe tbody tr th {\n",
       "        vertical-align: top;\n",
       "    }\n",
       "\n",
       "    .dataframe thead th {\n",
       "        text-align: right;\n",
       "    }\n",
       "</style>\n",
       "<table border=\"1\" class=\"dataframe\">\n",
       "  <thead>\n",
       "    <tr style=\"text-align: right;\">\n",
       "      <th></th>\n",
       "      <th>book</th>\n",
       "      <th>character</th>\n",
       "    </tr>\n",
       "  </thead>\n",
       "  <tbody>\n",
       "    <tr>\n",
       "      <th>0</th>\n",
       "      <td>Category:Baptism of Fire characters</td>\n",
       "      <td>Adalia</td>\n",
       "    </tr>\n",
       "    <tr>\n",
       "      <th>1</th>\n",
       "      <td>Category:Baptism of Fire characters</td>\n",
       "      <td>Adela</td>\n",
       "    </tr>\n",
       "    <tr>\n",
       "      <th>2</th>\n",
       "      <td>Category:Baptism of Fire characters</td>\n",
       "      <td>Aen Saevherne</td>\n",
       "    </tr>\n",
       "    <tr>\n",
       "      <th>3</th>\n",
       "      <td>Category:Baptism of Fire characters</td>\n",
       "      <td>Aevenien</td>\n",
       "    </tr>\n",
       "    <tr>\n",
       "      <th>4</th>\n",
       "      <td>Category:Baptism of Fire characters</td>\n",
       "      <td>Aglaïs</td>\n",
       "    </tr>\n",
       "    <tr>\n",
       "      <th>...</th>\n",
       "      <td>...</td>\n",
       "      <td>...</td>\n",
       "    </tr>\n",
       "    <tr>\n",
       "      <th>1270</th>\n",
       "      <td>Category:Time of Contempt characters</td>\n",
       "      <td>Yanna of Murivel</td>\n",
       "    </tr>\n",
       "    <tr>\n",
       "      <th>1271</th>\n",
       "      <td>Category:Time of Contempt characters</td>\n",
       "      <td>Yarpen Zigrin</td>\n",
       "    </tr>\n",
       "    <tr>\n",
       "      <th>1272</th>\n",
       "      <td>Category:Time of Contempt characters</td>\n",
       "      <td>Yennefer of Vengerberg</td>\n",
       "    </tr>\n",
       "    <tr>\n",
       "      <th>1273</th>\n",
       "      <td>Category:Time of Contempt characters</td>\n",
       "      <td>Yiolenta Suarez</td>\n",
       "    </tr>\n",
       "    <tr>\n",
       "      <th>1274</th>\n",
       "      <td>Category:Time of Contempt characters</td>\n",
       "      <td>Zyvik</td>\n",
       "    </tr>\n",
       "  </tbody>\n",
       "</table>\n",
       "<p>1275 rows × 2 columns</p>\n",
       "</div>"
      ],
      "text/plain": [
       "                                      book               character\n",
       "0      Category:Baptism of Fire characters                  Adalia\n",
       "1      Category:Baptism of Fire characters                   Adela\n",
       "2      Category:Baptism of Fire characters           Aen Saevherne\n",
       "3      Category:Baptism of Fire characters                Aevenien\n",
       "4      Category:Baptism of Fire characters                  Aglaïs\n",
       "...                                    ...                     ...\n",
       "1270  Category:Time of Contempt characters        Yanna of Murivel\n",
       "1271  Category:Time of Contempt characters           Yarpen Zigrin\n",
       "1272  Category:Time of Contempt characters  Yennefer of Vengerberg\n",
       "1273  Category:Time of Contempt characters         Yiolenta Suarez\n",
       "1274  Category:Time of Contempt characters                   Zyvik\n",
       "\n",
       "[1275 rows x 2 columns]"
      ]
     },
     "execution_count": 7,
     "metadata": {},
     "output_type": "execute_result"
    }
   ],
   "source": [
    "# Load Character dfs\n",
    "characters = pd.read_csv('./characters/characters.csv')\n",
    "characters"
   ]
  },
  {
   "cell_type": "code",
   "execution_count": 8,
   "id": "63179633-d299-4eb8-8b15-52a2806ec094",
   "metadata": {},
   "outputs": [
    {
     "data": {
      "text/html": [
       "<div>\n",
       "<style scoped>\n",
       "    .dataframe tbody tr th:only-of-type {\n",
       "        vertical-align: middle;\n",
       "    }\n",
       "\n",
       "    .dataframe tbody tr th {\n",
       "        vertical-align: top;\n",
       "    }\n",
       "\n",
       "    .dataframe thead th {\n",
       "        text-align: right;\n",
       "    }\n",
       "</style>\n",
       "<table border=\"1\" class=\"dataframe\">\n",
       "  <thead>\n",
       "    <tr style=\"text-align: right;\">\n",
       "      <th></th>\n",
       "      <th>book</th>\n",
       "      <th>character</th>\n",
       "      <th>character_firstname</th>\n",
       "    </tr>\n",
       "  </thead>\n",
       "  <tbody>\n",
       "    <tr>\n",
       "      <th>1245</th>\n",
       "      <td>Category:Time of Contempt characters</td>\n",
       "      <td>Stahler</td>\n",
       "      <td>Stahler</td>\n",
       "    </tr>\n",
       "    <tr>\n",
       "      <th>1246</th>\n",
       "      <td>Category:Time of Contempt characters</td>\n",
       "      <td>Stefan Skellen</td>\n",
       "      <td>Stefan</td>\n",
       "    </tr>\n",
       "    <tr>\n",
       "      <th>1247</th>\n",
       "      <td>Category:Time of Contempt characters</td>\n",
       "      <td>Stella Congreve</td>\n",
       "      <td>Stella</td>\n",
       "    </tr>\n",
       "    <tr>\n",
       "      <th>1248</th>\n",
       "      <td>Category:Time of Contempt characters</td>\n",
       "      <td>Talbot</td>\n",
       "      <td>Talbot</td>\n",
       "    </tr>\n",
       "    <tr>\n",
       "      <th>1249</th>\n",
       "      <td>Category:Time of Contempt characters</td>\n",
       "      <td>Tangerinka Hofmeier</td>\n",
       "      <td>Tangerinka</td>\n",
       "    </tr>\n",
       "    <tr>\n",
       "      <th>1250</th>\n",
       "      <td>Category:Time of Contempt characters</td>\n",
       "      <td>Tissaia de Vries</td>\n",
       "      <td>Tissaia</td>\n",
       "    </tr>\n",
       "    <tr>\n",
       "      <th>1251</th>\n",
       "      <td>Category:Time of Contempt characters</td>\n",
       "      <td>Torm Akerspaark</td>\n",
       "      <td>Torm</td>\n",
       "    </tr>\n",
       "    <tr>\n",
       "      <th>1252</th>\n",
       "      <td>Category:Time of Contempt characters</td>\n",
       "      <td>Toruviel</td>\n",
       "      <td>Toruviel</td>\n",
       "    </tr>\n",
       "    <tr>\n",
       "      <th>1253</th>\n",
       "      <td>Category:Time of Contempt characters</td>\n",
       "      <td>Toublanc Michelet</td>\n",
       "      <td>Toublanc</td>\n",
       "    </tr>\n",
       "    <tr>\n",
       "      <th>1254</th>\n",
       "      <td>Category:Time of Contempt characters</td>\n",
       "      <td>Triss Merigold</td>\n",
       "      <td>Triss</td>\n",
       "    </tr>\n",
       "    <tr>\n",
       "      <th>1255</th>\n",
       "      <td>Category:Time of Contempt characters</td>\n",
       "      <td>Two Tusks</td>\n",
       "      <td>Two Tusks</td>\n",
       "    </tr>\n",
       "    <tr>\n",
       "      <th>1256</th>\n",
       "      <td>Category:Time of Contempt characters</td>\n",
       "      <td>Valia Akerspaark</td>\n",
       "      <td>Valia</td>\n",
       "    </tr>\n",
       "    <tr>\n",
       "      <th>1257</th>\n",
       "      <td>Category:Time of Contempt characters</td>\n",
       "      <td>Vattier de Rideaux</td>\n",
       "      <td>Vattier</td>\n",
       "    </tr>\n",
       "    <tr>\n",
       "      <th>1258</th>\n",
       "      <td>Category:Time of Contempt characters</td>\n",
       "      <td>Venzlav</td>\n",
       "      <td>Venzlav</td>\n",
       "    </tr>\n",
       "    <tr>\n",
       "      <th>1259</th>\n",
       "      <td>Category:Time of Contempt characters</td>\n",
       "      <td>Vercta</td>\n",
       "      <td>Vercta</td>\n",
       "    </tr>\n",
       "    <tr>\n",
       "      <th>1260</th>\n",
       "      <td>Category:Time of Contempt characters</td>\n",
       "      <td>Vesemir</td>\n",
       "      <td>Vesemir</td>\n",
       "    </tr>\n",
       "    <tr>\n",
       "      <th>1261</th>\n",
       "      <td>Category:Time of Contempt characters</td>\n",
       "      <td>Vilgefortz</td>\n",
       "      <td>Vilgefortz</td>\n",
       "    </tr>\n",
       "    <tr>\n",
       "      <th>1262</th>\n",
       "      <td>Category:Time of Contempt characters</td>\n",
       "      <td>Villis</td>\n",
       "      <td>Villis</td>\n",
       "    </tr>\n",
       "    <tr>\n",
       "      <th>1263</th>\n",
       "      <td>Category:Time of Contempt characters</td>\n",
       "      <td>Vissegerd</td>\n",
       "      <td>Vissegerd</td>\n",
       "    </tr>\n",
       "    <tr>\n",
       "      <th>1264</th>\n",
       "      <td>Category:Time of Contempt characters</td>\n",
       "      <td>Vizimir II</td>\n",
       "      <td>Vizimir</td>\n",
       "    </tr>\n",
       "    <tr>\n",
       "      <th>1265</th>\n",
       "      <td>Category:Time of Contempt characters</td>\n",
       "      <td>Voymir</td>\n",
       "      <td>Voymir</td>\n",
       "    </tr>\n",
       "    <tr>\n",
       "      <th>1266</th>\n",
       "      <td>Category:Time of Contempt characters</td>\n",
       "      <td>Wilfli</td>\n",
       "      <td>Wilfli</td>\n",
       "    </tr>\n",
       "    <tr>\n",
       "      <th>1267</th>\n",
       "      <td>Category:Time of Contempt characters</td>\n",
       "      <td>Willemer</td>\n",
       "      <td>Willemer</td>\n",
       "    </tr>\n",
       "    <tr>\n",
       "      <th>1268</th>\n",
       "      <td>Category:Time of Contempt characters</td>\n",
       "      <td>Xarthisius</td>\n",
       "      <td>Xarthisius</td>\n",
       "    </tr>\n",
       "    <tr>\n",
       "      <th>1269</th>\n",
       "      <td>Category:Time of Contempt characters</td>\n",
       "      <td>Yaevinn</td>\n",
       "      <td>Yaevinn</td>\n",
       "    </tr>\n",
       "    <tr>\n",
       "      <th>1270</th>\n",
       "      <td>Category:Time of Contempt characters</td>\n",
       "      <td>Yanna of Murivel</td>\n",
       "      <td>Yanna</td>\n",
       "    </tr>\n",
       "    <tr>\n",
       "      <th>1271</th>\n",
       "      <td>Category:Time of Contempt characters</td>\n",
       "      <td>Yarpen Zigrin</td>\n",
       "      <td>Yarpen</td>\n",
       "    </tr>\n",
       "    <tr>\n",
       "      <th>1272</th>\n",
       "      <td>Category:Time of Contempt characters</td>\n",
       "      <td>Yennefer of Vengerberg</td>\n",
       "      <td>Yennefer</td>\n",
       "    </tr>\n",
       "    <tr>\n",
       "      <th>1273</th>\n",
       "      <td>Category:Time of Contempt characters</td>\n",
       "      <td>Yiolenta Suarez</td>\n",
       "      <td>Yiolenta</td>\n",
       "    </tr>\n",
       "    <tr>\n",
       "      <th>1274</th>\n",
       "      <td>Category:Time of Contempt characters</td>\n",
       "      <td>Zyvik</td>\n",
       "      <td>Zyvik</td>\n",
       "    </tr>\n",
       "  </tbody>\n",
       "</table>\n",
       "</div>"
      ],
      "text/plain": [
       "                                      book               character  \\\n",
       "1245  Category:Time of Contempt characters                 Stahler   \n",
       "1246  Category:Time of Contempt characters          Stefan Skellen   \n",
       "1247  Category:Time of Contempt characters         Stella Congreve   \n",
       "1248  Category:Time of Contempt characters                  Talbot   \n",
       "1249  Category:Time of Contempt characters     Tangerinka Hofmeier   \n",
       "1250  Category:Time of Contempt characters        Tissaia de Vries   \n",
       "1251  Category:Time of Contempt characters         Torm Akerspaark   \n",
       "1252  Category:Time of Contempt characters                Toruviel   \n",
       "1253  Category:Time of Contempt characters       Toublanc Michelet   \n",
       "1254  Category:Time of Contempt characters          Triss Merigold   \n",
       "1255  Category:Time of Contempt characters               Two Tusks   \n",
       "1256  Category:Time of Contempt characters        Valia Akerspaark   \n",
       "1257  Category:Time of Contempt characters      Vattier de Rideaux   \n",
       "1258  Category:Time of Contempt characters                 Venzlav   \n",
       "1259  Category:Time of Contempt characters                  Vercta   \n",
       "1260  Category:Time of Contempt characters                 Vesemir   \n",
       "1261  Category:Time of Contempt characters              Vilgefortz   \n",
       "1262  Category:Time of Contempt characters                  Villis   \n",
       "1263  Category:Time of Contempt characters               Vissegerd   \n",
       "1264  Category:Time of Contempt characters              Vizimir II   \n",
       "1265  Category:Time of Contempt characters                 Voymir    \n",
       "1266  Category:Time of Contempt characters                  Wilfli   \n",
       "1267  Category:Time of Contempt characters                Willemer   \n",
       "1268  Category:Time of Contempt characters              Xarthisius   \n",
       "1269  Category:Time of Contempt characters                 Yaevinn   \n",
       "1270  Category:Time of Contempt characters        Yanna of Murivel   \n",
       "1271  Category:Time of Contempt characters           Yarpen Zigrin   \n",
       "1272  Category:Time of Contempt characters  Yennefer of Vengerberg   \n",
       "1273  Category:Time of Contempt characters         Yiolenta Suarez   \n",
       "1274  Category:Time of Contempt characters                   Zyvik   \n",
       "\n",
       "     character_firstname  \n",
       "1245             Stahler  \n",
       "1246              Stefan  \n",
       "1247              Stella  \n",
       "1248              Talbot  \n",
       "1249          Tangerinka  \n",
       "1250             Tissaia  \n",
       "1251                Torm  \n",
       "1252            Toruviel  \n",
       "1253            Toublanc  \n",
       "1254               Triss  \n",
       "1255           Two Tusks  \n",
       "1256               Valia  \n",
       "1257             Vattier  \n",
       "1258             Venzlav  \n",
       "1259              Vercta  \n",
       "1260             Vesemir  \n",
       "1261          Vilgefortz  \n",
       "1262              Villis  \n",
       "1263           Vissegerd  \n",
       "1264             Vizimir  \n",
       "1265              Voymir  \n",
       "1266              Wilfli  \n",
       "1267            Willemer  \n",
       "1268          Xarthisius  \n",
       "1269             Yaevinn  \n",
       "1270               Yanna  \n",
       "1271              Yarpen  \n",
       "1272            Yennefer  \n",
       "1273            Yiolenta  \n",
       "1274               Zyvik  "
      ]
     },
     "execution_count": 8,
     "metadata": {},
     "output_type": "execute_result"
    }
   ],
   "source": [
    "# Remove brackets and text within brackets using regex\n",
    "characters['character'] = characters['character'].apply(lambda x: re.sub(\"[\\(].*?[\\)]\", \"\", x))\n",
    "# If name is split, ie Geralt of Rivia, get only first part\n",
    "characters['character_firstname'] = characters['character'].apply(lambda x: x.split(' ', 1)[0])\n",
    "# Make exception for \"Two Tusks\", because first name of \"Two\" causes problems\n",
    "characters['character_firstname'] = characters['character_firstname'].replace(['Two'], 'Two Tusks')\n",
    "characters.tail(30)"
   ]
  },
  {
   "cell_type": "markdown",
   "id": "308f047b-00ae-4674-b71c-1b340d21aed2",
   "metadata": {},
   "source": [
    "### Get Named Entity List Per Sentence"
   ]
  },
  {
   "cell_type": "code",
   "execution_count": 9,
   "id": "2cc44173-ea7f-4cc4-8d5a-93c955d37d61",
   "metadata": {},
   "outputs": [],
   "source": [
    "sentence_entities = []\n",
    "\n",
    "# Loop and find all\n",
    "for sentence in book_doc.sents:\n",
    "    entity_list = [ent.text for ent in sentence.ents]\n",
    "    sentence_entities.append({\"sentence\": sentence, \"entities\": entity_list})\n",
    "    \n",
    "sentence_entities = pd.DataFrame(sentence_entities)"
   ]
  },
  {
   "cell_type": "code",
   "execution_count": 10,
   "id": "128447f3-d481-4e32-bb1c-c0b4164c1e18",
   "metadata": {},
   "outputs": [
    {
     "data": {
      "text/html": [
       "<div>\n",
       "<style scoped>\n",
       "    .dataframe tbody tr th:only-of-type {\n",
       "        vertical-align: middle;\n",
       "    }\n",
       "\n",
       "    .dataframe tbody tr th {\n",
       "        vertical-align: top;\n",
       "    }\n",
       "\n",
       "    .dataframe thead th {\n",
       "        text-align: right;\n",
       "    }\n",
       "</style>\n",
       "<table border=\"1\" class=\"dataframe\">\n",
       "  <thead>\n",
       "    <tr style=\"text-align: right;\">\n",
       "      <th></th>\n",
       "      <th>sentence</th>\n",
       "      <th>entities</th>\n",
       "    </tr>\n",
       "  </thead>\n",
       "  <tbody>\n",
       "    <tr>\n",
       "      <th>0</th>\n",
       "      <td>(﻿'Does, she, always, devour, her, victims, ?,...</td>\n",
       "      <td>[]</td>\n",
       "    </tr>\n",
       "    <tr>\n",
       "      <th>1</th>\n",
       "      <td>(Velerad, spat, vehemently, on, the, straw, .)</td>\n",
       "      <td>[]</td>\n",
       "    </tr>\n",
       "    <tr>\n",
       "      <th>2</th>\n",
       "      <td>(\\n\\n, ', Come, on, ,, Geralt, ,, it, 'll, be,...</td>\n",
       "      <td>[Geralt]</td>\n",
       "    </tr>\n",
       "    <tr>\n",
       "      <th>3</th>\n",
       "      <td>(Pish, !)</td>\n",
       "      <td>[]</td>\n",
       "    </tr>\n",
       "    <tr>\n",
       "      <th>4</th>\n",
       "      <td>(Devours, ,, takes, a, bite, ,, leaves, aside,...</td>\n",
       "      <td>[]</td>\n",
       "    </tr>\n",
       "    <tr>\n",
       "      <th>...</th>\n",
       "      <td>...</td>\n",
       "      <td>...</td>\n",
       "    </tr>\n",
       "    <tr>\n",
       "      <th>8967</th>\n",
       "      <td>(See, to, Iola, .)</td>\n",
       "      <td>[Iola]</td>\n",
       "    </tr>\n",
       "    <tr>\n",
       "      <th>8968</th>\n",
       "      <td>(So, long, ,, Nenneke, ., ')</td>\n",
       "      <td>[Nenneke]</td>\n",
       "    </tr>\n",
       "    <tr>\n",
       "      <th>8969</th>\n",
       "      <td>(The, priestess, slowly, shook, her, head, ,, ...</td>\n",
       "      <td>[]</td>\n",
       "    </tr>\n",
       "    <tr>\n",
       "      <th>8970</th>\n",
       "      <td>(\\n\\n)</td>\n",
       "      <td>[]</td>\n",
       "    </tr>\n",
       "    <tr>\n",
       "      <th>8971</th>\n",
       "      <td>(', Farewell, ,, ', she, whispered, ,, not, lo...</td>\n",
       "      <td>[]</td>\n",
       "    </tr>\n",
       "  </tbody>\n",
       "</table>\n",
       "<p>8972 rows × 2 columns</p>\n",
       "</div>"
      ],
      "text/plain": [
       "                                               sentence   entities\n",
       "0     (﻿'Does, she, always, devour, her, victims, ?,...         []\n",
       "1        (Velerad, spat, vehemently, on, the, straw, .)         []\n",
       "2     (\\n\\n, ', Come, on, ,, Geralt, ,, it, 'll, be,...   [Geralt]\n",
       "3                                             (Pish, !)         []\n",
       "4     (Devours, ,, takes, a, bite, ,, leaves, aside,...         []\n",
       "...                                                 ...        ...\n",
       "8967                                 (See, to, Iola, .)     [Iola]\n",
       "8968                       (So, long, ,, Nenneke, ., ')  [Nenneke]\n",
       "8969  (The, priestess, slowly, shook, her, head, ,, ...         []\n",
       "8970                                             (\\n\\n)         []\n",
       "8971  (', Farewell, ,, ', she, whispered, ,, not, lo...         []\n",
       "\n",
       "[8972 rows x 2 columns]"
      ]
     },
     "execution_count": 10,
     "metadata": {},
     "output_type": "execute_result"
    }
   ],
   "source": [
    "sentence_entities"
   ]
  },
  {
   "cell_type": "markdown",
   "id": "870a8083-8b06-4603-9b7d-4943ab1b9dda",
   "metadata": {},
   "source": [
    "### Filter out all entities"
   ]
  },
  {
   "cell_type": "code",
   "execution_count": 11,
   "id": "b3bc54fc-7639-4afb-bcdd-d8832cd08c4a",
   "metadata": {},
   "outputs": [],
   "source": [
    "def filter_entity(entity_list, characters):\n",
    "    return [ent for ent in entity_list\n",
    "            if ent in list(characters.character)\n",
    "            or ent in list(characters.character_firstname)]"
   ]
  },
  {
   "cell_type": "code",
   "execution_count": 12,
   "id": "fe696de4-88eb-4c08-aae2-a3d49d9f33b6",
   "metadata": {},
   "outputs": [
    {
     "data": {
      "text/plain": [
       "['Geralt', 'Ciri', 'Nenneke']"
      ]
     },
     "execution_count": 12,
     "metadata": {},
     "output_type": "execute_result"
    }
   ],
   "source": [
    "filter_entity([\"Geralt\", \"Thu\", \"Ciri\", \"Nenneke\", \"Two\"], characters)"
   ]
  },
  {
   "cell_type": "markdown",
   "id": "3364e2f2-bd12-4a50-96e6-378e51706f5d",
   "metadata": {},
   "source": [
    "### Apply filter function to dataframe"
   ]
  },
  {
   "cell_type": "code",
   "execution_count": 13,
   "id": "19159eeb-6514-4e96-abc9-07d9093a5dc5",
   "metadata": {},
   "outputs": [],
   "source": [
    "sentence_entities['character_entities'] = sentence_entities['entities'].apply(lambda x: filter_entity(x, characters))\n",
    "\n",
    "# Remove sentences where there are no named entities\n",
    "sentence_entities_filtered = sentence_entities[sentence_entities['character_entities'].map(len) > 0]"
   ]
  },
  {
   "cell_type": "code",
   "execution_count": 14,
   "id": "a8061605-a4ac-4b92-9296-2583b0b541bb",
   "metadata": {},
   "outputs": [
    {
     "name": "stderr",
     "output_type": "stream",
     "text": [
      "/tmp/ipykernel_17859/1885442398.py:2: SettingWithCopyWarning: \n",
      "A value is trying to be set on a copy of a slice from a DataFrame.\n",
      "Try using .loc[row_indexer,col_indexer] = value instead\n",
      "\n",
      "See the caveats in the documentation: https://pandas.pydata.org/pandas-docs/stable/user_guide/indexing.html#returning-a-view-versus-a-copy\n",
      "  sentence_entities_filtered['character_entities'] = sentence_entities_filtered['character_entities'].apply(lambda x: [item.split()[0]\n"
     ]
    }
   ],
   "source": [
    "# Take only first name of character in entities\n",
    "sentence_entities_filtered['character_entities'] = sentence_entities_filtered['character_entities'].apply(lambda x: [item.split()[0]\n",
    "                                                                                               for item in x])\n"
   ]
  },
  {
   "cell_type": "code",
   "execution_count": 15,
   "id": "e16c6929-7f65-4f92-9552-2c1166540c60",
   "metadata": {},
   "outputs": [
    {
     "data": {
      "text/html": [
       "<div>\n",
       "<style scoped>\n",
       "    .dataframe tbody tr th:only-of-type {\n",
       "        vertical-align: middle;\n",
       "    }\n",
       "\n",
       "    .dataframe tbody tr th {\n",
       "        vertical-align: top;\n",
       "    }\n",
       "\n",
       "    .dataframe thead th {\n",
       "        text-align: right;\n",
       "    }\n",
       "</style>\n",
       "<table border=\"1\" class=\"dataframe\">\n",
       "  <thead>\n",
       "    <tr style=\"text-align: right;\">\n",
       "      <th></th>\n",
       "      <th>sentence</th>\n",
       "      <th>entities</th>\n",
       "      <th>character_entities</th>\n",
       "    </tr>\n",
       "  </thead>\n",
       "  <tbody>\n",
       "    <tr>\n",
       "      <th>2</th>\n",
       "      <td>(\\n\\n, ', Come, on, ,, Geralt, ,, it, 'll, be,...</td>\n",
       "      <td>[Geralt]</td>\n",
       "      <td>[Geralt]</td>\n",
       "    </tr>\n",
       "    <tr>\n",
       "      <th>6</th>\n",
       "      <td>(Damned, mother's-, !, ', \\n\\n, ', Careful, ,,...</td>\n",
       "      <td>[Velerad, Ostrit]</td>\n",
       "      <td>[Velerad, Ostrit]</td>\n",
       "    </tr>\n",
       "    <tr>\n",
       "      <th>7</th>\n",
       "      <td>(', Say, what, you, want, about, the, striga, ...</td>\n",
       "      <td>[Adda]</td>\n",
       "      <td>[Adda]</td>\n",
       "    </tr>\n",
       "    <tr>\n",
       "      <th>10</th>\n",
       "      <td>(Segelin, and, Ostrit, looked, at, each, other...</td>\n",
       "      <td>[Segelin, Ostrit]</td>\n",
       "      <td>[Segelin, Ostrit]</td>\n",
       "    </tr>\n",
       "    <tr>\n",
       "      <th>15</th>\n",
       "      <td>(And, then, ,, ', interrupted, Velerad, ,, ', ...</td>\n",
       "      <td>[Velerad, miller]</td>\n",
       "      <td>[Velerad]</td>\n",
       "    </tr>\n",
       "    <tr>\n",
       "      <th>...</th>\n",
       "      <td>...</td>\n",
       "      <td>...</td>\n",
       "      <td>...</td>\n",
       "    </tr>\n",
       "    <tr>\n",
       "      <th>8947</th>\n",
       "      <td>(Nenneke, raised, herself, to, her, knees, and...</td>\n",
       "      <td>[Nenneke]</td>\n",
       "      <td>[Nenneke]</td>\n",
       "    </tr>\n",
       "    <tr>\n",
       "      <th>8954</th>\n",
       "      <td>(She, turned, to, Geralt, .)</td>\n",
       "      <td>[Geralt]</td>\n",
       "      <td>[Geralt]</td>\n",
       "    </tr>\n",
       "    <tr>\n",
       "      <th>8958</th>\n",
       "      <td>(Iola-, ', \\n\\n, ', Do, n't, say, anything, ,,...</td>\n",
       "      <td>[Nenneke]</td>\n",
       "      <td>[Nenneke]</td>\n",
       "    </tr>\n",
       "    <tr>\n",
       "      <th>8967</th>\n",
       "      <td>(See, to, Iola, .)</td>\n",
       "      <td>[Iola]</td>\n",
       "      <td>[Iola]</td>\n",
       "    </tr>\n",
       "    <tr>\n",
       "      <th>8968</th>\n",
       "      <td>(So, long, ,, Nenneke, ., ')</td>\n",
       "      <td>[Nenneke]</td>\n",
       "      <td>[Nenneke]</td>\n",
       "    </tr>\n",
       "  </tbody>\n",
       "</table>\n",
       "<p>1029 rows × 3 columns</p>\n",
       "</div>"
      ],
      "text/plain": [
       "                                               sentence           entities  \\\n",
       "2     (\\n\\n, ', Come, on, ,, Geralt, ,, it, 'll, be,...           [Geralt]   \n",
       "6     (Damned, mother's-, !, ', \\n\\n, ', Careful, ,,...  [Velerad, Ostrit]   \n",
       "7     (', Say, what, you, want, about, the, striga, ...             [Adda]   \n",
       "10    (Segelin, and, Ostrit, looked, at, each, other...  [Segelin, Ostrit]   \n",
       "15    (And, then, ,, ', interrupted, Velerad, ,, ', ...  [Velerad, miller]   \n",
       "...                                                 ...                ...   \n",
       "8947  (Nenneke, raised, herself, to, her, knees, and...          [Nenneke]   \n",
       "8954                       (She, turned, to, Geralt, .)           [Geralt]   \n",
       "8958  (Iola-, ', \\n\\n, ', Do, n't, say, anything, ,,...          [Nenneke]   \n",
       "8967                                 (See, to, Iola, .)             [Iola]   \n",
       "8968                       (So, long, ,, Nenneke, ., ')          [Nenneke]   \n",
       "\n",
       "     character_entities  \n",
       "2              [Geralt]  \n",
       "6     [Velerad, Ostrit]  \n",
       "7                [Adda]  \n",
       "10    [Segelin, Ostrit]  \n",
       "15            [Velerad]  \n",
       "...                 ...  \n",
       "8947          [Nenneke]  \n",
       "8954           [Geralt]  \n",
       "8958          [Nenneke]  \n",
       "8967             [Iola]  \n",
       "8968          [Nenneke]  \n",
       "\n",
       "[1029 rows x 3 columns]"
      ]
     },
     "execution_count": 15,
     "metadata": {},
     "output_type": "execute_result"
    }
   ],
   "source": [
    "sentence_entities_filtered"
   ]
  },
  {
   "cell_type": "markdown",
   "id": "65217221-51e9-4896-94cd-e7922b933d79",
   "metadata": {},
   "source": [
    "### Create rolling windows throughout the text and do analysis"
   ]
  },
  {
   "cell_type": "code",
   "execution_count": 16,
   "id": "4ef2e828-78ac-4490-a29a-6ce999df1fa7",
   "metadata": {},
   "outputs": [],
   "source": [
    "window_size = 5\n",
    "relationships = []\n",
    "\n",
    "for i in range(sentence_entities_filtered.index[-1]):\n",
    "    end_index = min(i+5, sentence_entities_filtered.index[-1])\n",
    "    character_list = sum((sentence_entities_filtered.loc[i: end_index].character_entities), [])\n",
    "    \n",
    "    # Remove duplicates that are next to each other:\n",
    "    unique_characters = [character_list[i] for i in range(len(character_list))\n",
    "                         if (i==0) or character_list[i] !=character_list[i-1]]\n",
    "    \n",
    "    if len(unique_characters) > 1:\n",
    "        for index, a in enumerate(unique_characters[:-1]):\n",
    "            b = unique_characters[index + 1]\n",
    "            relationships.append({\"source\": a, \"target\": b})"
   ]
  },
  {
   "cell_type": "code",
   "execution_count": 17,
   "id": "a661da5f-f95f-4675-a4f8-e2e91fbe2a8c",
   "metadata": {},
   "outputs": [
    {
     "data": {
      "text/html": [
       "<div>\n",
       "<style scoped>\n",
       "    .dataframe tbody tr th:only-of-type {\n",
       "        vertical-align: middle;\n",
       "    }\n",
       "\n",
       "    .dataframe tbody tr th {\n",
       "        vertical-align: top;\n",
       "    }\n",
       "\n",
       "    .dataframe thead th {\n",
       "        text-align: right;\n",
       "    }\n",
       "</style>\n",
       "<table border=\"1\" class=\"dataframe\">\n",
       "  <thead>\n",
       "    <tr style=\"text-align: right;\">\n",
       "      <th></th>\n",
       "      <th>source</th>\n",
       "      <th>target</th>\n",
       "    </tr>\n",
       "  </thead>\n",
       "  <tbody>\n",
       "    <tr>\n",
       "      <th>0</th>\n",
       "      <td>Geralt</td>\n",
       "      <td>Velerad</td>\n",
       "    </tr>\n",
       "    <tr>\n",
       "      <th>1</th>\n",
       "      <td>Velerad</td>\n",
       "      <td>Ostrit</td>\n",
       "    </tr>\n",
       "    <tr>\n",
       "      <th>2</th>\n",
       "      <td>Geralt</td>\n",
       "      <td>Velerad</td>\n",
       "    </tr>\n",
       "    <tr>\n",
       "      <th>3</th>\n",
       "      <td>Velerad</td>\n",
       "      <td>Ostrit</td>\n",
       "    </tr>\n",
       "    <tr>\n",
       "      <th>4</th>\n",
       "      <td>Ostrit</td>\n",
       "      <td>Adda</td>\n",
       "    </tr>\n",
       "    <tr>\n",
       "      <th>...</th>\n",
       "      <td>...</td>\n",
       "      <td>...</td>\n",
       "    </tr>\n",
       "    <tr>\n",
       "      <th>1702</th>\n",
       "      <td>Iola</td>\n",
       "      <td>Nenneke</td>\n",
       "    </tr>\n",
       "    <tr>\n",
       "      <th>1703</th>\n",
       "      <td>Iola</td>\n",
       "      <td>Nenneke</td>\n",
       "    </tr>\n",
       "    <tr>\n",
       "      <th>1704</th>\n",
       "      <td>Iola</td>\n",
       "      <td>Nenneke</td>\n",
       "    </tr>\n",
       "    <tr>\n",
       "      <th>1705</th>\n",
       "      <td>Iola</td>\n",
       "      <td>Nenneke</td>\n",
       "    </tr>\n",
       "    <tr>\n",
       "      <th>1706</th>\n",
       "      <td>Iola</td>\n",
       "      <td>Nenneke</td>\n",
       "    </tr>\n",
       "  </tbody>\n",
       "</table>\n",
       "<p>1707 rows × 2 columns</p>\n",
       "</div>"
      ],
      "text/plain": [
       "       source   target\n",
       "0      Geralt  Velerad\n",
       "1     Velerad   Ostrit\n",
       "2      Geralt  Velerad\n",
       "3     Velerad   Ostrit\n",
       "4      Ostrit     Adda\n",
       "...       ...      ...\n",
       "1702     Iola  Nenneke\n",
       "1703     Iola  Nenneke\n",
       "1704     Iola  Nenneke\n",
       "1705     Iola  Nenneke\n",
       "1706     Iola  Nenneke\n",
       "\n",
       "[1707 rows x 2 columns]"
      ]
     },
     "execution_count": 17,
     "metadata": {},
     "output_type": "execute_result"
    }
   ],
   "source": [
    "relationships = pd.DataFrame(relationships)\n",
    "relationships"
   ]
  },
  {
   "cell_type": "markdown",
   "id": "18386847-9966-46ec-ba2c-dafcb85be51a",
   "metadata": {},
   "source": [
    "### Aggregate the relationships"
   ]
  },
  {
   "cell_type": "code",
   "execution_count": 18,
   "id": "6337be9e-7e0b-40c0-8b1c-227e4e2461a6",
   "metadata": {},
   "outputs": [
    {
     "data": {
      "text/html": [
       "<div>\n",
       "<style scoped>\n",
       "    .dataframe tbody tr th:only-of-type {\n",
       "        vertical-align: middle;\n",
       "    }\n",
       "\n",
       "    .dataframe tbody tr th {\n",
       "        vertical-align: top;\n",
       "    }\n",
       "\n",
       "    .dataframe thead th {\n",
       "        text-align: right;\n",
       "    }\n",
       "</style>\n",
       "<table border=\"1\" class=\"dataframe\">\n",
       "  <thead>\n",
       "    <tr style=\"text-align: right;\">\n",
       "      <th></th>\n",
       "      <th>source</th>\n",
       "      <th>target</th>\n",
       "    </tr>\n",
       "  </thead>\n",
       "  <tbody>\n",
       "    <tr>\n",
       "      <th>0</th>\n",
       "      <td>Geralt</td>\n",
       "      <td>Velerad</td>\n",
       "    </tr>\n",
       "    <tr>\n",
       "      <th>1</th>\n",
       "      <td>Ostrit</td>\n",
       "      <td>Velerad</td>\n",
       "    </tr>\n",
       "    <tr>\n",
       "      <th>2</th>\n",
       "      <td>Geralt</td>\n",
       "      <td>Velerad</td>\n",
       "    </tr>\n",
       "    <tr>\n",
       "      <th>3</th>\n",
       "      <td>Ostrit</td>\n",
       "      <td>Velerad</td>\n",
       "    </tr>\n",
       "    <tr>\n",
       "      <th>4</th>\n",
       "      <td>Adda</td>\n",
       "      <td>Ostrit</td>\n",
       "    </tr>\n",
       "    <tr>\n",
       "      <th>...</th>\n",
       "      <td>...</td>\n",
       "      <td>...</td>\n",
       "    </tr>\n",
       "    <tr>\n",
       "      <th>1702</th>\n",
       "      <td>Iola</td>\n",
       "      <td>Nenneke</td>\n",
       "    </tr>\n",
       "    <tr>\n",
       "      <th>1703</th>\n",
       "      <td>Iola</td>\n",
       "      <td>Nenneke</td>\n",
       "    </tr>\n",
       "    <tr>\n",
       "      <th>1704</th>\n",
       "      <td>Iola</td>\n",
       "      <td>Nenneke</td>\n",
       "    </tr>\n",
       "    <tr>\n",
       "      <th>1705</th>\n",
       "      <td>Iola</td>\n",
       "      <td>Nenneke</td>\n",
       "    </tr>\n",
       "    <tr>\n",
       "      <th>1706</th>\n",
       "      <td>Iola</td>\n",
       "      <td>Nenneke</td>\n",
       "    </tr>\n",
       "  </tbody>\n",
       "</table>\n",
       "<p>1707 rows × 2 columns</p>\n",
       "</div>"
      ],
      "text/plain": [
       "      source   target\n",
       "0     Geralt  Velerad\n",
       "1     Ostrit  Velerad\n",
       "2     Geralt  Velerad\n",
       "3     Ostrit  Velerad\n",
       "4       Adda   Ostrit\n",
       "...      ...      ...\n",
       "1702    Iola  Nenneke\n",
       "1703    Iola  Nenneke\n",
       "1704    Iola  Nenneke\n",
       "1705    Iola  Nenneke\n",
       "1706    Iola  Nenneke\n",
       "\n",
       "[1707 rows x 2 columns]"
      ]
     },
     "execution_count": 18,
     "metadata": {},
     "output_type": "execute_result"
    }
   ],
   "source": [
    "### First need to sort order so its uniform\n",
    "\n",
    "relationships = pd.DataFrame(np.sort(relationships.values, axis=1), columns = relationships.columns)\n",
    "relationships"
   ]
  },
  {
   "cell_type": "code",
   "execution_count": 19,
   "id": "77a2f3b3-6383-4894-845d-8e60677cd337",
   "metadata": {},
   "outputs": [],
   "source": [
    "# For each row make the value 1 and sum\n",
    "relationships[\"value\"] = 1\n",
    "relationships = relationships.groupby([\"source\", \"target\"], sort=False, as_index=False).sum()"
   ]
  },
  {
   "cell_type": "code",
   "execution_count": 20,
   "id": "bd5a2166-ce69-4872-9145-6f5331f6f749",
   "metadata": {},
   "outputs": [
    {
     "data": {
      "text/html": [
       "<div>\n",
       "<style scoped>\n",
       "    .dataframe tbody tr th:only-of-type {\n",
       "        vertical-align: middle;\n",
       "    }\n",
       "\n",
       "    .dataframe tbody tr th {\n",
       "        vertical-align: top;\n",
       "    }\n",
       "\n",
       "    .dataframe thead th {\n",
       "        text-align: right;\n",
       "    }\n",
       "</style>\n",
       "<table border=\"1\" class=\"dataframe\">\n",
       "  <thead>\n",
       "    <tr style=\"text-align: right;\">\n",
       "      <th></th>\n",
       "      <th>source</th>\n",
       "      <th>target</th>\n",
       "      <th>value</th>\n",
       "    </tr>\n",
       "  </thead>\n",
       "  <tbody>\n",
       "    <tr>\n",
       "      <th>0</th>\n",
       "      <td>Geralt</td>\n",
       "      <td>Velerad</td>\n",
       "      <td>8</td>\n",
       "    </tr>\n",
       "    <tr>\n",
       "      <th>1</th>\n",
       "      <td>Ostrit</td>\n",
       "      <td>Velerad</td>\n",
       "      <td>7</td>\n",
       "    </tr>\n",
       "    <tr>\n",
       "      <th>2</th>\n",
       "      <td>Adda</td>\n",
       "      <td>Ostrit</td>\n",
       "      <td>5</td>\n",
       "    </tr>\n",
       "    <tr>\n",
       "      <th>3</th>\n",
       "      <td>Adda</td>\n",
       "      <td>Segelin</td>\n",
       "      <td>3</td>\n",
       "    </tr>\n",
       "    <tr>\n",
       "      <th>4</th>\n",
       "      <td>Ostrit</td>\n",
       "      <td>Segelin</td>\n",
       "      <td>6</td>\n",
       "    </tr>\n",
       "    <tr>\n",
       "      <th>...</th>\n",
       "      <td>...</td>\n",
       "      <td>...</td>\n",
       "      <td>...</td>\n",
       "    </tr>\n",
       "    <tr>\n",
       "      <th>165</th>\n",
       "      <td>Count</td>\n",
       "      <td>Geralt</td>\n",
       "      <td>4</td>\n",
       "    </tr>\n",
       "    <tr>\n",
       "      <th>166</th>\n",
       "      <td>Dennis</td>\n",
       "      <td>Geralt</td>\n",
       "      <td>22</td>\n",
       "    </tr>\n",
       "    <tr>\n",
       "      <th>167</th>\n",
       "      <td>Dennis</td>\n",
       "      <td>Falwick</td>\n",
       "      <td>5</td>\n",
       "    </tr>\n",
       "    <tr>\n",
       "      <th>168</th>\n",
       "      <td>Count</td>\n",
       "      <td>Dennis</td>\n",
       "      <td>6</td>\n",
       "    </tr>\n",
       "    <tr>\n",
       "      <th>169</th>\n",
       "      <td>Count</td>\n",
       "      <td>Falwick</td>\n",
       "      <td>14</td>\n",
       "    </tr>\n",
       "  </tbody>\n",
       "</table>\n",
       "<p>170 rows × 3 columns</p>\n",
       "</div>"
      ],
      "text/plain": [
       "     source   target  value\n",
       "0    Geralt  Velerad      8\n",
       "1    Ostrit  Velerad      7\n",
       "2      Adda   Ostrit      5\n",
       "3      Adda  Segelin      3\n",
       "4    Ostrit  Segelin      6\n",
       "..      ...      ...    ...\n",
       "165   Count   Geralt      4\n",
       "166  Dennis   Geralt     22\n",
       "167  Dennis  Falwick      5\n",
       "168   Count   Dennis      6\n",
       "169   Count  Falwick     14\n",
       "\n",
       "[170 rows x 3 columns]"
      ]
     },
     "execution_count": 20,
     "metadata": {},
     "output_type": "execute_result"
    }
   ],
   "source": [
    "relationships"
   ]
  },
  {
   "cell_type": "markdown",
   "id": "d69afe29-b1b3-4d21-b21f-a62f5ccb7c68",
   "metadata": {},
   "source": [
    "### Part 3: Graph visualization with networkx"
   ]
  },
  {
   "cell_type": "code",
   "execution_count": 21,
   "id": "14750197-f773-4d4f-8cb0-5e8cdfa03f1e",
   "metadata": {},
   "outputs": [],
   "source": [
    "# Create graph from df\n",
    "\n",
    "G = nx.from_pandas_edgelist(relationships,\n",
    "                            source=\"source\",\n",
    "                            target=\"target\",\n",
    "                            edge_attr=\"value\",\n",
    "                            create_using=nx.Graph())"
   ]
  },
  {
   "cell_type": "code",
   "execution_count": 22,
   "id": "540485e5-58d1-4742-9d3f-f3baef095f13",
   "metadata": {},
   "outputs": [
    {
     "data": {
      "image/png": "[encoded data removed]",
      "text/plain": [
       "<Figure size 720x720 with 1 Axes>"
      ]
     },
     "metadata": {},
     "output_type": "display_data"
    }
   ],
   "source": [
    "plt.figure(figsize=(10,10))\n",
    "pos = nx.kamada_kawai_layout(G)\n",
    "\n",
    "nx.draw(G, with_labels=True, node_color='skyblue', edge_cmap=plt.cm.Blues, pos=pos)\n",
    "plt.show()"
   ]
  },
  {
   "cell_type": "markdown",
   "id": "b6f6a47f-8180-41df-ad5b-23cbc6f2dd25",
   "metadata": {},
   "source": [
    "### Use PyVis instead"
   ]
  },
  {
   "cell_type": "code",
   "execution_count": 24,
   "id": "644ad613-85ca-4b76-af5a-20e6ba562ac3",
   "metadata": {},
   "outputs": [
    {
     "data": {
      "text/html": [
       "\n",
       "        <iframe\n",
       "            width=\"1000px\"\n",
       "            height=\"700px\"\n",
       "            src=\"witcher.html\"\n",
       "            frameborder=\"0\"\n",
       "            allowfullscreen\n",
       "            \n",
       "        ></iframe>\n",
       "        "
      ],
      "text/plain": [
       "<IPython.lib.display.IFrame at 0x7f58b828db50>"
      ]
     },
     "execution_count": 24,
     "metadata": {},
     "output_type": "execute_result"
    }
   ],
   "source": [
    "from pyvis.network import Network\n",
    "net = Network(notebook=True, width=\"1000px\", height=\"700px\", bgcolor=\"#222222\", font_color=\"white\")\n",
    "\n",
    "# Make node size relative\n",
    "node_degree = dict(G.degree)\n",
    "\n",
    "# Setting up node size\n",
    "nx.set_node_attributes(G, node_degree, \"size\")\n",
    "\n",
    "# Pass in networkx Graph G\n",
    "net.from_nx(G)\n",
    "net.show(\"witcher.html\")"
   ]
  },
  {
   "cell_type": "markdown",
   "id": "4aa24923-a461-4f3e-88fa-13742ffb0fe0",
   "metadata": {},
   "source": [
    "### More fun analysis, attempting to find most important characters"
   ]
  },
  {
   "cell_type": "code",
   "execution_count": 25,
   "id": "2bb3b882-33b0-4999-b89e-2ea797b5858a",
   "metadata": {},
   "outputs": [
    {
     "data": {
      "text/plain": [
       "{'Geralt': 0.6588235294117647,\n",
       " 'Velerad': 0.047058823529411764,\n",
       " 'Ostrit': 0.058823529411764705,\n",
       " 'Adda': 0.03529411764705882,\n",
       " 'Segelin': 0.03529411764705882,\n",
       " 'Foltest': 0.047058823529411764,\n",
       " 'Nenneke': 0.058823529411764705,\n",
       " 'Yennefer': 0.1411764705882353,\n",
       " 'Iola': 0.011764705882352941,\n",
       " 'Roach': 0.023529411764705882,\n",
       " 'Rulle': 0.011764705882352941,\n",
       " 'Nivellen': 0.07058823529411765,\n",
       " 'Fenne': 0.023529411764705882,\n",
       " 'Primula': 0.023529411764705882,\n",
       " 'Venimira': 0.023529411764705882,\n",
       " 'Glutton': 0.023529411764705882,\n",
       " 'Vereena': 0.047058823529411764,\n",
       " 'Falwick': 0.047058823529411764,\n",
       " 'Hereward': 0.023529411764705882,\n",
       " 'Dragomir': 0.011764705882352941,\n",
       " 'Trigla': 0.011764705882352941,\n",
       " 'Caldemeyn': 0.047058823529411764,\n",
       " 'Karelka': 0.011764705882352941,\n",
       " 'Stregobor': 0.058823529411764705,\n",
       " 'Zavist': 0.023529411764705882,\n",
       " 'Evermir': 0.023529411764705882,\n",
       " 'Fialka': 0.011764705882352941,\n",
       " 'Abrad': 0.011764705882352941,\n",
       " 'Fredefalk': 0.03529411764705882,\n",
       " 'Renfri': 0.10588235294117647,\n",
       " 'Nimir': 0.011764705882352941,\n",
       " 'Nohorn': 0.058823529411764705,\n",
       " 'Tavik': 0.058823529411764705,\n",
       " 'Fifteen': 0.047058823529411764,\n",
       " 'Civril': 0.058823529411764705,\n",
       " 'Audoen': 0.047058823529411764,\n",
       " 'Libushe': 0.011764705882352941,\n",
       " 'Marilka': 0.023529411764705882,\n",
       " 'Drogodar': 0.047058823529411764,\n",
       " 'Rainfarn': 0.10588235294117647,\n",
       " 'Baron': 0.011764705882352941,\n",
       " 'Calanthe': 0.03529411764705882,\n",
       " 'Pavetta': 0.09411764705882353,\n",
       " 'Draig': 0.07058823529411765,\n",
       " 'Eist': 0.07058823529411765,\n",
       " 'Fodcat': 0.03529411764705882,\n",
       " 'Wieldhill': 0.047058823529411764,\n",
       " 'Vissegerd': 0.07058823529411765,\n",
       " 'Crach': 0.058823529411764705,\n",
       " 'Cerro': 0.011764705882352941,\n",
       " 'Windhalm': 0.023529411764705882,\n",
       " 'Mousesack': 0.03529411764705882,\n",
       " 'Roegner': 0.023529411764705882,\n",
       " 'Supree': 0.023529411764705882,\n",
       " 'Zatret': 0.011764705882352941,\n",
       " 'Rumplestelt': 0.011764705882352941,\n",
       " 'Ravix': 0.023529411764705882,\n",
       " 'Adalia': 0.011764705882352941,\n",
       " 'Roderick': 0.011764705882352941,\n",
       " 'Millet': 0.011764705882352941,\n",
       " 'Nan': 0.011764705882352941,\n",
       " 'Dhun': 0.03529411764705882,\n",
       " 'Lille': 0.047058823529411764,\n",
       " 'Nettly': 0.011764705882352941,\n",
       " 'Galarr': 0.047058823529411764,\n",
       " 'Torque': 0.07058823529411765,\n",
       " 'Filavandrel': 0.058823529411764705,\n",
       " 'Vanadain': 0.047058823529411764,\n",
       " 'Toruviel': 0.058823529411764705,\n",
       " 'Til': 0.011764705882352941,\n",
       " 'Valdo': 0.023529411764705882,\n",
       " 'Virginia': 0.023529411764705882,\n",
       " 'Vratimir': 0.07058823529411765,\n",
       " 'Chireadan': 0.09411764705882353,\n",
       " 'Errdil': 0.07058823529411765,\n",
       " 'Beau': 0.03529411764705882,\n",
       " 'Cerberus': 0.011764705882352941,\n",
       " 'Triss': 0.011764705882352941,\n",
       " 'Laurelnose': 0.058823529411764705,\n",
       " 'Krepp': 0.08235294117647059,\n",
       " 'Neville': 0.058823529411764705,\n",
       " 'Geoffrey': 0.023529411764705882,\n",
       " 'Eskel': 0.011764705882352941,\n",
       " 'Vesemir': 0.023529411764705882,\n",
       " 'Count': 0.03529411764705882,\n",
       " 'Dennis': 0.03529411764705882}"
      ]
     },
     "execution_count": 25,
     "metadata": {},
     "output_type": "execute_result"
    }
   ],
   "source": [
    "# Degree centrality\n",
    "degree_dict = nx.degree_centrality(G)\n",
    "degree_dict"
   ]
  },
  {
   "cell_type": "code",
   "execution_count": 26,
   "id": "5f03c157-dbee-4edb-a574-8788c8f0ac4f",
   "metadata": {},
   "outputs": [
    {
     "data": {
      "text/plain": [
       "<AxesSubplot:>"
      ]
     },
     "execution_count": 26,
     "metadata": {},
     "output_type": "execute_result"
    },
    {
     "data": {
      "image/png": "[encoded data removed]",
      "text/plain": [
       "<Figure size 432x288 with 1 Axes>"
      ]
     },
     "metadata": {},
     "output_type": "display_data"
    }
   ],
   "source": [
    "degrees = pd.DataFrame.from_dict(degree_dict, orient=\"index\", columns=['centrality'])\n",
    "# Plot top 10\n",
    "plt.style.use('dark_background') #For dark backgrounds\n",
    "degrees.sort_values('centrality', ascending=False)[0:9].plot(kind=\"bar\")"
   ]
  },
  {
   "cell_type": "code",
   "execution_count": 27,
   "id": "e3a06325-59c6-4a36-86cc-2d07956d7c55",
   "metadata": {},
   "outputs": [
    {
     "data": {
      "text/plain": [
       "<AxesSubplot:>"
      ]
     },
     "execution_count": 27,
     "metadata": {},
     "output_type": "execute_result"
    },
    {
     "data": {
      "image/png": "[encoded data removed]",
      "text/plain": [
       "<Figure size 432x288 with 1 Axes>"
      ]
     },
     "metadata": {},
     "output_type": "display_data"
    }
   ],
   "source": [
    "# Closeness centrality\n",
    "closeness_dict = nx.closeness_centrality(G)\n",
    "closeness = pd.DataFrame.from_dict(closeness_dict, orient='index', columns=['centrality'])\n",
    "# Plot the top 10\n",
    "closeness.sort_values('centrality', ascending=False)[0:9].plot(kind=\"bar\")"
   ]
  },
  {
   "cell_type": "code",
   "execution_count": 28,
   "id": "02f58329-bb97-424c-9d38-630c334c4f2c",
   "metadata": {},
   "outputs": [
    {
     "data": {
      "text/plain": [
       "<AxesSubplot:>"
      ]
     },
     "execution_count": 28,
     "metadata": {},
     "output_type": "execute_result"
    },
    {
     "data": {
      "image/png": "[encoded data removed]",
      "text/plain": [
       "<Figure size 432x288 with 1 Axes>"
      ]
     },
     "metadata": {},
     "output_type": "display_data"
    }
   ],
   "source": [
    "# Betweeness centrality\n",
    "betweenness_dict = nx.betweenness_centrality(G)\n",
    "betweenness = pd.DataFrame.from_dict(betweenness_dict, orient='index', columns=['centrality'])\n",
    "# Plot the top 10\n",
    "betweenness.sort_values('centrality', ascending=False)[0:9].plot(kind=\"bar\")"
   ]
  },
  {
   "cell_type": "code",
   "execution_count": 29,
   "id": "30e1b672-b59a-4631-a177-2917dc564992",
   "metadata": {},
   "outputs": [],
   "source": [
    "# Save centrality measure\n",
    "\n",
    "nx.set_node_attributes(G, degree_dict, 'degree_centrality')\n",
    "nx.set_node_attributes(G, closeness_dict, 'closeness_centrality')\n",
    "nx.set_node_attributes(G, betweenness_dict, 'betweenness_centrality')"
   ]
  },
  {
   "cell_type": "markdown",
   "id": "b06e8e55-484a-45ef-80ac-bb08a6ec2499",
   "metadata": {},
   "source": [
    "#### Community Detection"
   ]
  },
  {
   "cell_type": "code",
   "execution_count": 30,
   "id": "623bb1aa-905f-441d-aa1b-f07f659dd7fb",
   "metadata": {},
   "outputs": [],
   "source": [
    "communities = community_louvain.best_partition(G)"
   ]
  },
  {
   "cell_type": "code",
   "execution_count": 32,
   "id": "1ead933a-97be-45f5-9672-878f7dae5572",
   "metadata": {},
   "outputs": [],
   "source": [
    "nx.set_node_attributes(G, communities, 'group')"
   ]
  },
  {
   "cell_type": "code",
   "execution_count": 33,
   "id": "261ee69b-35c0-4056-aca6-80b6d3b47511",
   "metadata": {},
   "outputs": [
    {
     "data": {
      "text/html": [
       "\n",
       "        <iframe\n",
       "            width=\"1000px\"\n",
       "            height=\"700px\"\n",
       "            src=\"witcher_communities.html\"\n",
       "            frameborder=\"0\"\n",
       "            allowfullscreen\n",
       "            \n",
       "        ></iframe>\n",
       "        "
      ],
      "text/plain": [
       "<IPython.lib.display.IFrame at 0x7f58b681ecd0>"
      ]
     },
     "execution_count": 33,
     "metadata": {},
     "output_type": "execute_result"
    }
   ],
   "source": [
    "com_net = Network(notebook = True, width=\"1000px\", height=\"700px\", bgcolor='#00000F', font_color='white')\n",
    "com_net.from_nx(G)\n",
    "com_net.show(\"witcher_communities.html\")"
   ]
  },
  {
   "cell_type": "code",
   "execution_count": 34,
   "id": "1b1888fa-c6dc-4e0b-b2a0-c6c560c96689",
   "metadata": {},
   "outputs": [
    {
     "ename": "AttributeError",
     "evalue": "'Network' object has no attribute 'savefig'",
     "output_type": "error",
     "traceback": [
      "\u001b[0;31m---------------------------------------------------------------------------\u001b[0m",
      "\u001b[0;31mAttributeError\u001b[0m                            Traceback (most recent call last)",
      "Input \u001b[0;32mIn [34]\u001b[0m, in \u001b[0;36m<cell line: 2>\u001b[0;34m()\u001b[0m\n\u001b[1;32m      1\u001b[0m \u001b[38;5;66;03m# Save to png\u001b[39;00m\n\u001b[0;32m----> 2\u001b[0m \u001b[43mcom_net\u001b[49m\u001b[38;5;241;43m.\u001b[39;49m\u001b[43msavefig\u001b[49m(\u001b[38;5;124m'\u001b[39m\u001b[38;5;124m./graphs/colored_book1.png\u001b[39m\u001b[38;5;124m'\u001b[39m)\n",
      "\u001b[0;31mAttributeError\u001b[0m: 'Network' object has no attribute 'savefig'"
     ]
    }
   ],
   "source": [
    "# Save to png\n",
    "com_net.savefig('./graphs/colored_book1.png')"
   ]
  },
  {
   "cell_type": "markdown",
   "id": "991515d6-087a-480e-b32a-7013a28d4cc0",
   "metadata": {
    "tags": []
   },
   "source": [
    "## Misc"
   ]
  },
  {
   "cell_type": "markdown",
   "id": "23e20c87-f761-44e5-a87c-8a6ed80b8522",
   "metadata": {
    "jp-MarkdownHeadingCollapsed": true,
    "tags": []
   },
   "source": [
    "#### Find this \"two\""
   ]
  },
  {
   "cell_type": "code",
   "execution_count": null,
   "id": "2ba9704e-a3a0-43e4-9ddc-1006e55a57c8",
   "metadata": {},
   "outputs": [],
   "source": [
    "characters"
   ]
  },
  {
   "cell_type": "code",
   "execution_count": null,
   "id": "3d6f26a0-b0cc-4eda-89fc-d78c745c006f",
   "metadata": {},
   "outputs": [],
   "source": [
    "find_two_chars = characters.loc[characters['character'].str.contains('Two', case=False)]\n",
    "find_two_chars"
   ]
  },
  {
   "cell_type": "code",
   "execution_count": null,
   "id": "8b022cb2-6c34-43b0-a220-396d691a609e",
   "metadata": {},
   "outputs": [],
   "source": [
    "find_two_src = relationships.loc[relationships['source'].str.contains('Two', case=False)]\n",
    "find_two_tar = relationships.loc[relationships['target'].str.contains('Two', case=False)]\n",
    "find_two_src"
   ]
  },
  {
   "cell_type": "code",
   "execution_count": null,
   "id": "11e6b31b-7806-454b-ae54-5d6269d1992b",
   "metadata": {},
   "outputs": [],
   "source": [
    "for p in Path(bookdir).iterdir():\n",
    "    print(p)"
   ]
  },
  {
   "cell_type": "code",
   "execution_count": null,
   "id": "3907556d-ae2f-4077-8b7a-84964361e1a4",
   "metadata": {},
   "outputs": [],
   "source": [
    "booklist = [x for x in os.listdir(bookdir) if x.endswith(\".txt\")]\n",
    "booklist"
   ]
  },
  {
   "cell_type": "code",
   "execution_count": null,
   "id": "dce68ffa-094f-4512-99d4-7f6270be4168",
   "metadata": {},
   "outputs": [],
   "source": [
    "book = booklist[0]\n",
    "book_text"
   ]
  }
 ],
 "metadata": {
  "kernelspec": {
   "display_name": "Python 3 (ipykernel)",
   "language": "python",
   "name": "python3"
  },
  "language_info": {
   "codemirror_mode": {
    "name": "ipython",
    "version": 3
   },
   "file_extension": ".py",
   "mimetype": "text/x-python",
   "name": "python",
   "nbconvert_exporter": "python",
   "pygments_lexer": "ipython3",
   "version": "3.8.10"
  }
 },
 "nbformat": 4,
 "nbformat_minor": 5
}
