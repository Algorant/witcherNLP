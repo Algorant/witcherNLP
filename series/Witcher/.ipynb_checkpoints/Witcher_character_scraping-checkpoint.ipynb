{
 "cells": [
  {
   "cell_type": "code",
   "execution_count": 1,
   "id": "9d088c9c-00b2-4553-b60e-5524d32b0a92",
   "metadata": {},
   "outputs": [],
   "source": [
    "import pandas as pd\n",
    "import time\n",
    "from selenium import webdriver\n",
    "from selenium.webdriver.firefox.service import Service as FirefoxService\n",
    "from webdriver_manager.firefox import GeckoDriverManager\n",
    "from selenium.webdriver.common.by import By\n",
    "import matplotlib.pyplot as plt"
   ]
  },
  {
   "cell_type": "code",
   "execution_count": 2,
   "id": "d9c5cbf7-aa6f-4fc1-89fd-96ed52ba3e0e",
   "metadata": {},
   "outputs": [
    {
     "name": "stderr",
     "output_type": "stream",
     "text": [
      "[WDM] - Downloading: 16.2kB [00:00, 9.23MB/s]                                                        \n",
      "[WDM] - Downloading: 100%|██████████████████████████████████████| 2.59M/2.59M [00:00<00:00, 16.1MB/s]\n"
     ]
    }
   ],
   "source": [
    "# Create Webdriver\n",
    "\n",
    "driver = webdriver.Firefox(service=FirefoxService(GeckoDriverManager().install()))"
   ]
  },
  {
   "cell_type": "code",
   "execution_count": 3,
   "id": "c6b61401-9b35-4c4d-b908-4dd640c513a7",
   "metadata": {},
   "outputs": [],
   "source": [
    "page_url = \"https://witcher.fandom.com/wiki/Category:Characters_in_the_stories\"\n",
    "\n",
    "driver.get(page_url)"
   ]
  },
  {
   "cell_type": "code",
   "execution_count": null,
   "id": "31eb6bc0-27a4-43ba-a0be-ddefe96e8a58",
   "metadata": {},
   "outputs": [],
   "source": [
    "# Find the books\n",
    "from selenium.webdriver.common.by import By\n",
    "\n",
    "book_categories = driver.find_elements(By.CLASS_NAME, 'category-page__member-link')\n",
    "\n",
    "print(\"Text: \", book_categories[0].text,\"\\n\", \"href:\", book_categories[0].get_attribute('href'))"
   ]
  },
  {
   "cell_type": "code",
   "execution_count": null,
   "id": "bbe6ca91-1727-47cb-b179-d929853a44bd",
   "metadata": {},
   "outputs": [],
   "source": [
    "# Go in and get each character and element\n",
    "\n",
    "character_elements = driver.find_elements(By.CLASS_NAME, 'category-page__member-link')"
   ]
  },
  {
   "cell_type": "code",
   "execution_count": null,
   "id": "2ae19ddf-3ffe-47ec-8a92-3c75a8b2eb7d",
   "metadata": {},
   "outputs": [],
   "source": [
    "character_elements[0].text"
   ]
  },
  {
   "cell_type": "markdown",
   "id": "56e2c7d3-8414-4ca9-9a7c-5fd0fedbb82a",
   "metadata": {},
   "source": [
    "## Initiate Driver and get all Books"
   ]
  },
  {
   "cell_type": "code",
   "execution_count": null,
   "id": "af29bdc3-0bd9-437c-ba42-d883be3b8899",
   "metadata": {},
   "outputs": [],
   "source": [
    "# Create Driver\n",
    "driver = webdriver.Firefox(service=FirefoxService(GeckoDriverManager().install()))\n",
    "\n",
    "# Go to the Character's in the books page\n",
    "page_url = \"https://witcher.fandom.com/wiki/Category:Characters_in_the_stories\"\n",
    "driver.get(page_url)\n",
    "\n",
    "# Find The Books\n",
    "book_categories = driver.find_elements(By.CLASS_NAME, 'category-page__member-link')\n",
    "# print(\"Text: \", book_categories[0].text,\"\\n\", \"href:\", book_categories[0].get_attribute('href'))\n",
    "\n",
    "# Loop through all books\n",
    "books = []\n",
    "for category in book_categories:\n",
    "    book_url = category.get_attribute('href')\n",
    "    book_name = category.text\n",
    "    books.append({'book_name': book_name, 'url': book_url})"
   ]
  },
  {
   "cell_type": "markdown",
   "id": "a7d96314-3cce-4880-82b8-19f00c660835",
   "metadata": {},
   "source": [
    "### Get Characters in Each Book"
   ]
  },
  {
   "cell_type": "code",
   "execution_count": null,
   "id": "ec0c866d-3e6c-4df5-a7e5-46b2d13e8089",
   "metadata": {},
   "outputs": [],
   "source": [
    "character_list = []\n",
    "\n",
    "for book in books:\n",
    "    # Go to each book page\n",
    "    driver.get(book['url'])\n",
    "    \n",
    "    character_elements = driver.find_elements(By.CLASS_NAME, 'category-page__member-link')\n",
    "    \n",
    "    for elem in character_elements:\n",
    "        character_list.append({'book': book['book_name'], 'character': elem.text})"
   ]
  },
  {
   "cell_type": "code",
   "execution_count": null,
   "id": "16e6cfc5-3fd6-4c64-9f70-a58c876b187d",
   "metadata": {},
   "outputs": [],
   "source": [
    "# Put character list in df\n",
    "\n",
    "characters = pd.DataFrame(character_list)\n",
    "characters.head()"
   ]
  },
  {
   "cell_type": "code",
   "execution_count": null,
   "id": "9ef634b2-2da5-44bc-bed1-4815f0f5aa7c",
   "metadata": {},
   "outputs": [],
   "source": [
    "# Do some quick EDA\n",
    "plt.style.use('dark_background') # for dark modes\n",
    "characters['book'].value_counts().plot(kind=\"bar\")\n",
    "plt.show()"
   ]
  },
  {
   "cell_type": "markdown",
   "id": "d8ac2b4c-16d9-4619-81ba-12f4ae86dfea",
   "metadata": {},
   "source": [
    "### Save To CSV"
   ]
  },
  {
   "cell_type": "code",
   "execution_count": null,
   "id": "85843027-09b9-4e91-94af-e98537ffb8f5",
   "metadata": {},
   "outputs": [],
   "source": [
    "characters.to_csv('./characters/characters.csv', index=False)"
   ]
  },
  {
   "cell_type": "code",
   "execution_count": null,
   "id": "b974172b-e5b8-423a-9dd5-28f94ff9b88d",
   "metadata": {},
   "outputs": [],
   "source": []
  }
 ],
 "metadata": {
  "kernelspec": {
   "display_name": "Python 3 (ipykernel)",
   "language": "python",
   "name": "python3"
  },
  "language_info": {
   "codemirror_mode": {
    "name": "ipython",
    "version": 3
   },
   "file_extension": ".py",
   "mimetype": "text/x-python",
   "name": "python",
   "nbconvert_exporter": "python",
   "pygments_lexer": "ipython3",
   "version": "3.8.10"
  }
 },
 "nbformat": 4,
 "nbformat_minor": 5
}
